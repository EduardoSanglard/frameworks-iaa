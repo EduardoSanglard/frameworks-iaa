{
  "cells": [
    {
      "cell_type": "markdown",
      "id": "7cc13d3a-1e55-41c1-969f-0db387717cfc",
      "metadata": {
        "id": "7cc13d3a-1e55-41c1-969f-0db387717cfc"
      },
      "source": [
        "# TensorFlow - RNA\n",
        "## Eduardo Gomes Sanglard - IAA 2022\n",
        "### Laboratório de Inteligência Artifical - Frameworks de IA\n",
        "\n",
        "Bases de dados trabalhadas neste notebook:\n",
        "\n",
        "- Câncer de Mama: Redes Neurais Básico\n",
        "- MNIST: Reconhecimento de dígitos\n",
        "- Biomassa: Predição de Biomassa\n",
        "\n",
        "Link para este notebook no Google Colab\n",
        "https://drive.google.com/file/d/1LB-iGtfkSkUMSaJKStT7CGI_c1OqZHqM/view?usp=sharing\n"
      ]
    },
    {
      "cell_type": "markdown",
      "id": "c54d2f34-b820-4c26-bf01-7408e6f87b45",
      "metadata": {
        "id": "c54d2f34-b820-4c26-bf01-7408e6f87b45"
      },
      "source": [
        "Importação de bibliotecas"
      ]
    },
    {
      "cell_type": "code",
      "execution_count": 1,
      "id": "22daed04-90be-4a09-b186-bf6c6ab98e31",
      "metadata": {
        "tags": [],
        "colab": {
          "base_uri": "https://localhost:8080/",
          "height": 36
        },
        "id": "22daed04-90be-4a09-b186-bf6c6ab98e31",
        "outputId": "60652a73-7e6a-4430-d1d7-aaee5ddcb4b3"
      },
      "outputs": [
        {
          "output_type": "execute_result",
          "data": {
            "text/plain": [
              "'2.12.0'"
            ],
            "application/vnd.google.colaboratory.intrinsic+json": {
              "type": "string"
            }
          },
          "metadata": {},
          "execution_count": 1
        }
      ],
      "source": [
        "import tensorflow as tf\n",
        "\n",
        "from tensorflow.keras.layers import Input, GRU, LSTM, Conv2D, Dropout, SimpleRNN, Dense, Flatten, GlobalMaxPool1D\n",
        "from tensorflow.keras.models import Model\n",
        "from tensorflow.keras.optimizers import SGD, Adam\n",
        "from tensorflow.python.keras import backend\n",
        "from sklearn.datasets import load_breast_cancer\n",
        "from mlxtend.plotting import plot_confusion_matrix\n",
        "from sklearn.metrics import confusion_matrix, r2_score, mean_squared_error\n",
        "from sklearn.model_selection import train_test_split\n",
        "from sklearn.preprocessing import StandardScaler\n",
        "import numpy as np\n",
        "import pandas as pd\n",
        "import matplotlib.pyplot as plt\n",
        "from math import sqrt\n",
        "\n",
        "tf.__version__"
      ]
    },
    {
      "cell_type": "markdown",
      "id": "5cfa7feb-125c-4121-a7b5-77e8775cbde1",
      "metadata": {
        "id": "5cfa7feb-125c-4121-a7b5-77e8775cbde1"
      },
      "source": [
        "## Câncer de Mama\n",
        "Carregando dataset da biblioteca sklearn"
      ]
    },
    {
      "cell_type": "code",
      "execution_count": 2,
      "id": "c6646cd6-0a49-4d99-b929-756e74479f21",
      "metadata": {
        "tags": [],
        "colab": {
          "base_uri": "https://localhost:8080/"
        },
        "id": "c6646cd6-0a49-4d99-b929-756e74479f21",
        "outputId": "d487b111-de18-4641-de33-fbb0058d299c"
      },
      "outputs": [
        {
          "output_type": "execute_result",
          "data": {
            "text/plain": [
              "dict_keys(['data', 'target', 'frame', 'target_names', 'DESCR', 'feature_names', 'filename', 'data_module'])"
            ]
          },
          "metadata": {},
          "execution_count": 2
        }
      ],
      "source": [
        "data = load_breast_cancer()\n",
        "type(data)\n",
        "data.keys()"
      ]
    },
    {
      "cell_type": "markdown",
      "source": [
        "Analisando dados a serem manipulados e preditos"
      ],
      "metadata": {
        "id": "K-AmaCmItigG"
      },
      "id": "K-AmaCmItigG"
    },
    {
      "cell_type": "code",
      "source": [
        "data.data.shape\n",
        "data.target\n",
        "data.target_names\n",
        "data.feature_names\n",
        "data.target.shape"
      ],
      "metadata": {
        "colab": {
          "base_uri": "https://localhost:8080/"
        },
        "id": "9eOyIQU7sPOs",
        "outputId": "d98fb8a9-f333-4992-ea43-87e8c1853c91"
      },
      "id": "9eOyIQU7sPOs",
      "execution_count": 3,
      "outputs": [
        {
          "output_type": "execute_result",
          "data": {
            "text/plain": [
              "(569,)"
            ]
          },
          "metadata": {},
          "execution_count": 3
        }
      ]
    },
    {
      "cell_type": "markdown",
      "source": [
        "Divisão da base de treino e teste. 1/3 da base para testes e 2/3 para treinamento"
      ],
      "metadata": {
        "id": "iq14hxlZtnre"
      },
      "id": "iq14hxlZtnre"
    },
    {
      "cell_type": "code",
      "source": [
        "X_train, X_test, Y_train, Y_test = train_test_split(data.data, data.target, test_size=0.33)\n",
        "N, D = X_train.shape"
      ],
      "metadata": {
        "id": "gq4KJSnWsQqA"
      },
      "id": "gq4KJSnWsQqA",
      "execution_count": 4,
      "outputs": []
    },
    {
      "cell_type": "markdown",
      "source": [
        "Normalização dos dados com Standart Scaler"
      ],
      "metadata": {
        "id": "siWW8tq2tvb5"
      },
      "id": "siWW8tq2tvb5"
    },
    {
      "cell_type": "code",
      "source": [
        "scaler = StandardScaler()\n",
        "X_train = scaler.fit_transform(X_train)\n",
        "X_test = scaler.transform(X_test)"
      ],
      "metadata": {
        "id": "E57hBWZGsf3w"
      },
      "id": "E57hBWZGsf3w",
      "execution_count": 5,
      "outputs": []
    },
    {
      "cell_type": "markdown",
      "source": [
        "Construção do modelo de rede neural básico"
      ],
      "metadata": {
        "id": "gEaujDCEt19m"
      },
      "id": "gEaujDCEt19m"
    },
    {
      "cell_type": "code",
      "source": [
        "i = tf.keras.layers.Input(shape=(D,))\n",
        "x = tf.keras.layers.Dense(1, activation='sigmoid')(i)\n",
        "model = tf.keras.models.Model(i, x)"
      ],
      "metadata": {
        "id": "ASSDv5oRsjVp"
      },
      "id": "ASSDv5oRsjVp",
      "execution_count": 6,
      "outputs": []
    },
    {
      "cell_type": "code",
      "source": [
        "model.compile(optimizer='adam',loss='binary_crossentropy',metrics=['accuracy'])"
      ],
      "metadata": {
        "id": "RTXgJGmtsnan"
      },
      "id": "RTXgJGmtsnan",
      "execution_count": 7,
      "outputs": []
    },
    {
      "cell_type": "markdown",
      "source": [
        "Treinamento do modelo"
      ],
      "metadata": {
        "id": "tBt6_lqZt8FG"
      },
      "id": "tBt6_lqZt8FG"
    },
    {
      "cell_type": "code",
      "source": [
        "r = model.fit(X_train, Y_train, validation_data=(X_test, Y_test),\n",
        "epochs=100)"
      ],
      "metadata": {
        "colab": {
          "base_uri": "https://localhost:8080/"
        },
        "id": "i6xcod0XspbZ",
        "outputId": "5f9ada4d-e851-41b5-fb86-b057a834c9d4"
      },
      "id": "i6xcod0XspbZ",
      "execution_count": 8,
      "outputs": [
        {
          "output_type": "stream",
          "name": "stdout",
          "text": [
            "Epoch 1/100\n",
            "12/12 [==============================] - 5s 30ms/step - loss: 0.6908 - accuracy: 0.5407 - val_loss: 0.6662 - val_accuracy: 0.5904\n",
            "Epoch 2/100\n",
            "12/12 [==============================] - 0s 14ms/step - loss: 0.6156 - accuracy: 0.6562 - val_loss: 0.5902 - val_accuracy: 0.7234\n",
            "Epoch 3/100\n",
            "12/12 [==============================] - 0s 14ms/step - loss: 0.5518 - accuracy: 0.7664 - val_loss: 0.5281 - val_accuracy: 0.7979\n",
            "Epoch 4/100\n",
            "12/12 [==============================] - 0s 10ms/step - loss: 0.5008 - accuracy: 0.8163 - val_loss: 0.4772 - val_accuracy: 0.8564\n",
            "Epoch 5/100\n",
            "12/12 [==============================] - 0s 9ms/step - loss: 0.4575 - accuracy: 0.8609 - val_loss: 0.4370 - val_accuracy: 0.8883\n",
            "Epoch 6/100\n",
            "12/12 [==============================] - 0s 8ms/step - loss: 0.4228 - accuracy: 0.8793 - val_loss: 0.4041 - val_accuracy: 0.9096\n",
            "Epoch 7/100\n",
            "12/12 [==============================] - 0s 7ms/step - loss: 0.3944 - accuracy: 0.8950 - val_loss: 0.3767 - val_accuracy: 0.9096\n",
            "Epoch 8/100\n",
            "12/12 [==============================] - 0s 7ms/step - loss: 0.3708 - accuracy: 0.9003 - val_loss: 0.3532 - val_accuracy: 0.9202\n",
            "Epoch 9/100\n",
            "12/12 [==============================] - 0s 7ms/step - loss: 0.3504 - accuracy: 0.9108 - val_loss: 0.3335 - val_accuracy: 0.9202\n",
            "Epoch 10/100\n",
            "12/12 [==============================] - 0s 7ms/step - loss: 0.3330 - accuracy: 0.9134 - val_loss: 0.3162 - val_accuracy: 0.9309\n",
            "Epoch 11/100\n",
            "12/12 [==============================] - 0s 7ms/step - loss: 0.3178 - accuracy: 0.9213 - val_loss: 0.3009 - val_accuracy: 0.9415\n",
            "Epoch 12/100\n",
            "12/12 [==============================] - 0s 7ms/step - loss: 0.3041 - accuracy: 0.9213 - val_loss: 0.2875 - val_accuracy: 0.9415\n",
            "Epoch 13/100\n",
            "12/12 [==============================] - 0s 7ms/step - loss: 0.2919 - accuracy: 0.9239 - val_loss: 0.2754 - val_accuracy: 0.9468\n",
            "Epoch 14/100\n",
            "12/12 [==============================] - 0s 7ms/step - loss: 0.2808 - accuracy: 0.9265 - val_loss: 0.2647 - val_accuracy: 0.9468\n",
            "Epoch 15/100\n",
            "12/12 [==============================] - 0s 6ms/step - loss: 0.2711 - accuracy: 0.9265 - val_loss: 0.2549 - val_accuracy: 0.9468\n",
            "Epoch 16/100\n",
            "12/12 [==============================] - 0s 7ms/step - loss: 0.2618 - accuracy: 0.9265 - val_loss: 0.2456 - val_accuracy: 0.9468\n",
            "Epoch 17/100\n",
            "12/12 [==============================] - 0s 7ms/step - loss: 0.2534 - accuracy: 0.9344 - val_loss: 0.2373 - val_accuracy: 0.9468\n",
            "Epoch 18/100\n",
            "12/12 [==============================] - 0s 6ms/step - loss: 0.2455 - accuracy: 0.9370 - val_loss: 0.2299 - val_accuracy: 0.9468\n",
            "Epoch 19/100\n",
            "12/12 [==============================] - 0s 8ms/step - loss: 0.2383 - accuracy: 0.9396 - val_loss: 0.2228 - val_accuracy: 0.9468\n",
            "Epoch 20/100\n",
            "12/12 [==============================] - 0s 7ms/step - loss: 0.2316 - accuracy: 0.9396 - val_loss: 0.2163 - val_accuracy: 0.9521\n",
            "Epoch 21/100\n",
            "12/12 [==============================] - 0s 6ms/step - loss: 0.2254 - accuracy: 0.9449 - val_loss: 0.2101 - val_accuracy: 0.9521\n",
            "Epoch 22/100\n",
            "12/12 [==============================] - 0s 7ms/step - loss: 0.2195 - accuracy: 0.9528 - val_loss: 0.2044 - val_accuracy: 0.9521\n",
            "Epoch 23/100\n",
            "12/12 [==============================] - 0s 7ms/step - loss: 0.2141 - accuracy: 0.9580 - val_loss: 0.1993 - val_accuracy: 0.9574\n",
            "Epoch 24/100\n",
            "12/12 [==============================] - 0s 7ms/step - loss: 0.2089 - accuracy: 0.9580 - val_loss: 0.1944 - val_accuracy: 0.9574\n",
            "Epoch 25/100\n",
            "12/12 [==============================] - 0s 7ms/step - loss: 0.2040 - accuracy: 0.9606 - val_loss: 0.1898 - val_accuracy: 0.9574\n",
            "Epoch 26/100\n",
            "12/12 [==============================] - 0s 7ms/step - loss: 0.1995 - accuracy: 0.9606 - val_loss: 0.1856 - val_accuracy: 0.9574\n",
            "Epoch 27/100\n",
            "12/12 [==============================] - 0s 8ms/step - loss: 0.1953 - accuracy: 0.9633 - val_loss: 0.1815 - val_accuracy: 0.9574\n",
            "Epoch 28/100\n",
            "12/12 [==============================] - 0s 7ms/step - loss: 0.1911 - accuracy: 0.9633 - val_loss: 0.1776 - val_accuracy: 0.9574\n",
            "Epoch 29/100\n",
            "12/12 [==============================] - 0s 7ms/step - loss: 0.1873 - accuracy: 0.9633 - val_loss: 0.1739 - val_accuracy: 0.9734\n",
            "Epoch 30/100\n",
            "12/12 [==============================] - 0s 7ms/step - loss: 0.1835 - accuracy: 0.9633 - val_loss: 0.1705 - val_accuracy: 0.9734\n",
            "Epoch 31/100\n",
            "12/12 [==============================] - 0s 7ms/step - loss: 0.1800 - accuracy: 0.9633 - val_loss: 0.1673 - val_accuracy: 0.9681\n",
            "Epoch 32/100\n",
            "12/12 [==============================] - 0s 6ms/step - loss: 0.1768 - accuracy: 0.9633 - val_loss: 0.1641 - val_accuracy: 0.9681\n",
            "Epoch 33/100\n",
            "12/12 [==============================] - 0s 7ms/step - loss: 0.1735 - accuracy: 0.9633 - val_loss: 0.1613 - val_accuracy: 0.9681\n",
            "Epoch 34/100\n",
            "12/12 [==============================] - 0s 7ms/step - loss: 0.1705 - accuracy: 0.9633 - val_loss: 0.1587 - val_accuracy: 0.9681\n",
            "Epoch 35/100\n",
            "12/12 [==============================] - 0s 6ms/step - loss: 0.1678 - accuracy: 0.9659 - val_loss: 0.1559 - val_accuracy: 0.9681\n",
            "Epoch 36/100\n",
            "12/12 [==============================] - 0s 6ms/step - loss: 0.1650 - accuracy: 0.9685 - val_loss: 0.1534 - val_accuracy: 0.9681\n",
            "Epoch 37/100\n",
            "12/12 [==============================] - 0s 7ms/step - loss: 0.1623 - accuracy: 0.9685 - val_loss: 0.1510 - val_accuracy: 0.9681\n",
            "Epoch 38/100\n",
            "12/12 [==============================] - 0s 7ms/step - loss: 0.1597 - accuracy: 0.9685 - val_loss: 0.1489 - val_accuracy: 0.9681\n",
            "Epoch 39/100\n",
            "12/12 [==============================] - 0s 7ms/step - loss: 0.1572 - accuracy: 0.9711 - val_loss: 0.1468 - val_accuracy: 0.9681\n",
            "Epoch 40/100\n",
            "12/12 [==============================] - 0s 6ms/step - loss: 0.1550 - accuracy: 0.9711 - val_loss: 0.1445 - val_accuracy: 0.9681\n",
            "Epoch 41/100\n",
            "12/12 [==============================] - 0s 6ms/step - loss: 0.1527 - accuracy: 0.9711 - val_loss: 0.1425 - val_accuracy: 0.9681\n",
            "Epoch 42/100\n",
            "12/12 [==============================] - 0s 7ms/step - loss: 0.1505 - accuracy: 0.9711 - val_loss: 0.1407 - val_accuracy: 0.9734\n",
            "Epoch 43/100\n",
            "12/12 [==============================] - 0s 7ms/step - loss: 0.1485 - accuracy: 0.9738 - val_loss: 0.1388 - val_accuracy: 0.9734\n",
            "Epoch 44/100\n",
            "12/12 [==============================] - 0s 6ms/step - loss: 0.1464 - accuracy: 0.9738 - val_loss: 0.1372 - val_accuracy: 0.9734\n",
            "Epoch 45/100\n",
            "12/12 [==============================] - 0s 6ms/step - loss: 0.1445 - accuracy: 0.9738 - val_loss: 0.1355 - val_accuracy: 0.9734\n",
            "Epoch 46/100\n",
            "12/12 [==============================] - 0s 6ms/step - loss: 0.1426 - accuracy: 0.9738 - val_loss: 0.1339 - val_accuracy: 0.9734\n",
            "Epoch 47/100\n",
            "12/12 [==============================] - 0s 7ms/step - loss: 0.1408 - accuracy: 0.9738 - val_loss: 0.1324 - val_accuracy: 0.9734\n",
            "Epoch 48/100\n",
            "12/12 [==============================] - 0s 7ms/step - loss: 0.1391 - accuracy: 0.9764 - val_loss: 0.1308 - val_accuracy: 0.9734\n",
            "Epoch 49/100\n",
            "12/12 [==============================] - 0s 7ms/step - loss: 0.1373 - accuracy: 0.9764 - val_loss: 0.1294 - val_accuracy: 0.9734\n",
            "Epoch 50/100\n",
            "12/12 [==============================] - 0s 8ms/step - loss: 0.1358 - accuracy: 0.9764 - val_loss: 0.1280 - val_accuracy: 0.9734\n",
            "Epoch 51/100\n",
            "12/12 [==============================] - 0s 6ms/step - loss: 0.1341 - accuracy: 0.9764 - val_loss: 0.1267 - val_accuracy: 0.9734\n",
            "Epoch 52/100\n",
            "12/12 [==============================] - 0s 7ms/step - loss: 0.1326 - accuracy: 0.9764 - val_loss: 0.1254 - val_accuracy: 0.9734\n",
            "Epoch 53/100\n",
            "12/12 [==============================] - 0s 7ms/step - loss: 0.1311 - accuracy: 0.9764 - val_loss: 0.1243 - val_accuracy: 0.9734\n",
            "Epoch 54/100\n",
            "12/12 [==============================] - 0s 8ms/step - loss: 0.1297 - accuracy: 0.9764 - val_loss: 0.1231 - val_accuracy: 0.9734\n",
            "Epoch 55/100\n",
            "12/12 [==============================] - 0s 7ms/step - loss: 0.1282 - accuracy: 0.9764 - val_loss: 0.1220 - val_accuracy: 0.9734\n",
            "Epoch 56/100\n",
            "12/12 [==============================] - 0s 6ms/step - loss: 0.1269 - accuracy: 0.9764 - val_loss: 0.1210 - val_accuracy: 0.9734\n",
            "Epoch 57/100\n",
            "12/12 [==============================] - 0s 7ms/step - loss: 0.1256 - accuracy: 0.9764 - val_loss: 0.1199 - val_accuracy: 0.9734\n",
            "Epoch 58/100\n",
            "12/12 [==============================] - 0s 6ms/step - loss: 0.1243 - accuracy: 0.9764 - val_loss: 0.1189 - val_accuracy: 0.9734\n",
            "Epoch 59/100\n",
            "12/12 [==============================] - 0s 6ms/step - loss: 0.1231 - accuracy: 0.9764 - val_loss: 0.1178 - val_accuracy: 0.9734\n",
            "Epoch 60/100\n",
            "12/12 [==============================] - 0s 7ms/step - loss: 0.1218 - accuracy: 0.9764 - val_loss: 0.1169 - val_accuracy: 0.9734\n",
            "Epoch 61/100\n",
            "12/12 [==============================] - 0s 6ms/step - loss: 0.1207 - accuracy: 0.9764 - val_loss: 0.1160 - val_accuracy: 0.9734\n",
            "Epoch 62/100\n",
            "12/12 [==============================] - 0s 7ms/step - loss: 0.1195 - accuracy: 0.9790 - val_loss: 0.1150 - val_accuracy: 0.9734\n",
            "Epoch 63/100\n",
            "12/12 [==============================] - 0s 8ms/step - loss: 0.1184 - accuracy: 0.9816 - val_loss: 0.1142 - val_accuracy: 0.9734\n",
            "Epoch 64/100\n",
            "12/12 [==============================] - 0s 6ms/step - loss: 0.1173 - accuracy: 0.9816 - val_loss: 0.1134 - val_accuracy: 0.9734\n",
            "Epoch 65/100\n",
            "12/12 [==============================] - 0s 8ms/step - loss: 0.1162 - accuracy: 0.9816 - val_loss: 0.1126 - val_accuracy: 0.9734\n",
            "Epoch 66/100\n",
            "12/12 [==============================] - 0s 6ms/step - loss: 0.1152 - accuracy: 0.9816 - val_loss: 0.1118 - val_accuracy: 0.9734\n",
            "Epoch 67/100\n",
            "12/12 [==============================] - 0s 8ms/step - loss: 0.1141 - accuracy: 0.9816 - val_loss: 0.1110 - val_accuracy: 0.9734\n",
            "Epoch 68/100\n",
            "12/12 [==============================] - 0s 7ms/step - loss: 0.1132 - accuracy: 0.9816 - val_loss: 0.1103 - val_accuracy: 0.9734\n",
            "Epoch 69/100\n",
            "12/12 [==============================] - 0s 6ms/step - loss: 0.1122 - accuracy: 0.9816 - val_loss: 0.1096 - val_accuracy: 0.9734\n",
            "Epoch 70/100\n",
            "12/12 [==============================] - 0s 7ms/step - loss: 0.1113 - accuracy: 0.9816 - val_loss: 0.1090 - val_accuracy: 0.9734\n",
            "Epoch 71/100\n",
            "12/12 [==============================] - 0s 7ms/step - loss: 0.1103 - accuracy: 0.9816 - val_loss: 0.1084 - val_accuracy: 0.9734\n",
            "Epoch 72/100\n",
            "12/12 [==============================] - 0s 7ms/step - loss: 0.1094 - accuracy: 0.9816 - val_loss: 0.1077 - val_accuracy: 0.9734\n",
            "Epoch 73/100\n",
            "12/12 [==============================] - 0s 7ms/step - loss: 0.1085 - accuracy: 0.9816 - val_loss: 0.1071 - val_accuracy: 0.9734\n",
            "Epoch 74/100\n",
            "12/12 [==============================] - 0s 7ms/step - loss: 0.1077 - accuracy: 0.9816 - val_loss: 0.1064 - val_accuracy: 0.9734\n",
            "Epoch 75/100\n",
            "12/12 [==============================] - 0s 6ms/step - loss: 0.1069 - accuracy: 0.9816 - val_loss: 0.1059 - val_accuracy: 0.9734\n",
            "Epoch 76/100\n",
            "12/12 [==============================] - 0s 8ms/step - loss: 0.1060 - accuracy: 0.9816 - val_loss: 0.1052 - val_accuracy: 0.9734\n",
            "Epoch 77/100\n",
            "12/12 [==============================] - 0s 8ms/step - loss: 0.1052 - accuracy: 0.9816 - val_loss: 0.1047 - val_accuracy: 0.9734\n",
            "Epoch 78/100\n",
            "12/12 [==============================] - 0s 6ms/step - loss: 0.1044 - accuracy: 0.9816 - val_loss: 0.1043 - val_accuracy: 0.9734\n",
            "Epoch 79/100\n",
            "12/12 [==============================] - 0s 7ms/step - loss: 0.1036 - accuracy: 0.9816 - val_loss: 0.1037 - val_accuracy: 0.9734\n",
            "Epoch 80/100\n",
            "12/12 [==============================] - 0s 6ms/step - loss: 0.1029 - accuracy: 0.9816 - val_loss: 0.1031 - val_accuracy: 0.9734\n",
            "Epoch 81/100\n",
            "12/12 [==============================] - 0s 6ms/step - loss: 0.1021 - accuracy: 0.9816 - val_loss: 0.1027 - val_accuracy: 0.9734\n",
            "Epoch 82/100\n",
            "12/12 [==============================] - 0s 6ms/step - loss: 0.1014 - accuracy: 0.9816 - val_loss: 0.1022 - val_accuracy: 0.9734\n",
            "Epoch 83/100\n",
            "12/12 [==============================] - 0s 6ms/step - loss: 0.1007 - accuracy: 0.9816 - val_loss: 0.1018 - val_accuracy: 0.9734\n",
            "Epoch 84/100\n",
            "12/12 [==============================] - 0s 6ms/step - loss: 0.0999 - accuracy: 0.9816 - val_loss: 0.1013 - val_accuracy: 0.9734\n",
            "Epoch 85/100\n",
            "12/12 [==============================] - 0s 7ms/step - loss: 0.0993 - accuracy: 0.9843 - val_loss: 0.1009 - val_accuracy: 0.9734\n",
            "Epoch 86/100\n",
            "12/12 [==============================] - 0s 7ms/step - loss: 0.0986 - accuracy: 0.9843 - val_loss: 0.1005 - val_accuracy: 0.9734\n",
            "Epoch 87/100\n",
            "12/12 [==============================] - 0s 7ms/step - loss: 0.0979 - accuracy: 0.9843 - val_loss: 0.0999 - val_accuracy: 0.9734\n",
            "Epoch 88/100\n",
            "12/12 [==============================] - 0s 7ms/step - loss: 0.0974 - accuracy: 0.9843 - val_loss: 0.0997 - val_accuracy: 0.9734\n",
            "Epoch 89/100\n",
            "12/12 [==============================] - 0s 8ms/step - loss: 0.0966 - accuracy: 0.9843 - val_loss: 0.0992 - val_accuracy: 0.9734\n",
            "Epoch 90/100\n",
            "12/12 [==============================] - 0s 7ms/step - loss: 0.0960 - accuracy: 0.9843 - val_loss: 0.0988 - val_accuracy: 0.9734\n",
            "Epoch 91/100\n",
            "12/12 [==============================] - 0s 7ms/step - loss: 0.0954 - accuracy: 0.9843 - val_loss: 0.0984 - val_accuracy: 0.9734\n",
            "Epoch 92/100\n",
            "12/12 [==============================] - 0s 7ms/step - loss: 0.0948 - accuracy: 0.9843 - val_loss: 0.0980 - val_accuracy: 0.9734\n",
            "Epoch 93/100\n",
            "12/12 [==============================] - 0s 7ms/step - loss: 0.0942 - accuracy: 0.9843 - val_loss: 0.0978 - val_accuracy: 0.9734\n",
            "Epoch 94/100\n",
            "12/12 [==============================] - 0s 7ms/step - loss: 0.0936 - accuracy: 0.9843 - val_loss: 0.0974 - val_accuracy: 0.9734\n",
            "Epoch 95/100\n",
            "12/12 [==============================] - 0s 7ms/step - loss: 0.0930 - accuracy: 0.9843 - val_loss: 0.0971 - val_accuracy: 0.9734\n",
            "Epoch 96/100\n",
            "12/12 [==============================] - 0s 7ms/step - loss: 0.0925 - accuracy: 0.9843 - val_loss: 0.0967 - val_accuracy: 0.9734\n",
            "Epoch 97/100\n",
            "12/12 [==============================] - 0s 8ms/step - loss: 0.0919 - accuracy: 0.9843 - val_loss: 0.0964 - val_accuracy: 0.9734\n",
            "Epoch 98/100\n",
            "12/12 [==============================] - 0s 7ms/step - loss: 0.0914 - accuracy: 0.9843 - val_loss: 0.0961 - val_accuracy: 0.9734\n",
            "Epoch 99/100\n",
            "12/12 [==============================] - 0s 7ms/step - loss: 0.0909 - accuracy: 0.9843 - val_loss: 0.0959 - val_accuracy: 0.9734\n",
            "Epoch 100/100\n",
            "12/12 [==============================] - 0s 7ms/step - loss: 0.0903 - accuracy: 0.9843 - val_loss: 0.0954 - val_accuracy: 0.9734\n"
          ]
        }
      ]
    },
    {
      "cell_type": "markdown",
      "source": [
        "Métricas do modelo"
      ],
      "metadata": {
        "id": "27Bv8ynlt-gt"
      },
      "id": "27Bv8ynlt-gt"
    },
    {
      "cell_type": "code",
      "source": [
        "print(\"Train score: \", model.evaluate(X_train, Y_train))\n",
        "print(\"Test score: \", model.evaluate(X_test, Y_test))"
      ],
      "metadata": {
        "colab": {
          "base_uri": "https://localhost:8080/"
        },
        "id": "lpRorNlssrMm",
        "outputId": "b3f7587c-3b7f-4d71-c31b-c26c9b073a3b"
      },
      "id": "lpRorNlssrMm",
      "execution_count": 9,
      "outputs": [
        {
          "output_type": "stream",
          "name": "stdout",
          "text": [
            "12/12 [==============================] - 0s 3ms/step - loss: 0.0900 - accuracy: 0.9843\n",
            "Train score:  [0.0899723693728447, 0.9842519760131836]\n",
            "6/6 [==============================] - 0s 3ms/step - loss: 0.0954 - accuracy: 0.9734\n",
            "Test score:  [0.09544672816991806, 0.9734042286872864]\n"
          ]
        }
      ]
    },
    {
      "cell_type": "markdown",
      "source": [
        "Diminução do nível de 'loss' pelas epochs"
      ],
      "metadata": {
        "id": "erp9XzEMuDT-"
      },
      "id": "erp9XzEMuDT-"
    },
    {
      "cell_type": "code",
      "source": [
        "plt.plot(r.history['loss'], label='loss')\n",
        "plt.plot(r.history['val_loss'], label='val_loss')\n",
        "plt.legend()"
      ],
      "metadata": {
        "colab": {
          "base_uri": "https://localhost:8080/",
          "height": 447
        },
        "id": "rNxhRYAGstJ0",
        "outputId": "4253e2a7-f938-4d30-e703-bc93b9f20c99"
      },
      "id": "rNxhRYAGstJ0",
      "execution_count": 10,
      "outputs": [
        {
          "output_type": "execute_result",
          "data": {
            "text/plain": [
              "<matplotlib.legend.Legend at 0x7f202a41faf0>"
            ]
          },
          "metadata": {},
          "execution_count": 10
        },
        {
          "output_type": "display_data",
          "data": {
            "text/plain": [
              "<Figure size 640x480 with 1 Axes>"
            ],
            "image/png": "[encoded data removed]"
          },
          "metadata": {}
        }
      ]
    },
    {
      "cell_type": "markdown",
      "source": [
        "Melhora da acurácia através das epochs"
      ],
      "metadata": {
        "id": "JHsDt_8DuJSB"
      },
      "id": "JHsDt_8DuJSB"
    },
    {
      "cell_type": "code",
      "source": [
        "plt.plot(r.history['accuracy'], label=\"acc\")\n",
        "plt.plot(r.history['val_accuracy'], label='val_acc')\n",
        "plt.legend()"
      ],
      "metadata": {
        "colab": {
          "base_uri": "https://localhost:8080/",
          "height": 447
        },
        "id": "Wjvj3q3ysuVh",
        "outputId": "3f3aa254-987e-48e3-ff85-43509dcf39cc"
      },
      "id": "Wjvj3q3ysuVh",
      "execution_count": 11,
      "outputs": [
        {
          "output_type": "execute_result",
          "data": {
            "text/plain": [
              "<matplotlib.legend.Legend at 0x7f202a33afb0>"
            ]
          },
          "metadata": {},
          "execution_count": 11
        },
        {
          "output_type": "display_data",
          "data": {
            "text/plain": [
              "<Figure size 640x480 with 1 Axes>"
            ],
            "image/png": "[encoded data removed]"
          },
          "metadata": {}
        }
      ]
    },
    {
      "cell_type": "code",
      "source": [
        "pred = model.predict(X_test)\n",
        "print(pred)"
      ],
      "metadata": {
        "colab": {
          "base_uri": "https://localhost:8080/"
        },
        "id": "A6AyQV4ltRl_",
        "outputId": "ad1ce62d-b99b-4e4c-8fb3-6b0f6c1dd997"
      },
      "id": "A6AyQV4ltRl_",
      "execution_count": 12,
      "outputs": [
        {
          "output_type": "stream",
          "name": "stdout",
          "text": [
            "6/6 [==============================] - 0s 2ms/step\n",
            "[[7.79776674e-05]\n",
            " [6.10006111e-07]\n",
            " [9.73521292e-01]\n",
            " [7.30424747e-03]\n",
            " [3.55603516e-01]\n",
            " [9.68395054e-01]\n",
            " [9.64620292e-01]\n",
            " [9.96907651e-01]\n",
            " [4.80858207e-01]\n",
            " [8.96865368e-01]\n",
            " [9.82427537e-01]\n",
            " [2.17897049e-03]\n",
            " [8.38758051e-01]\n",
            " [9.91187036e-01]\n",
            " [9.87997651e-01]\n",
            " [9.38337088e-01]\n",
            " [9.98213887e-01]\n",
            " [1.11467316e-05]\n",
            " [2.98427162e-03]\n",
            " [1.30057111e-02]\n",
            " [1.74235389e-01]\n",
            " [9.97773468e-01]\n",
            " [9.65221167e-01]\n",
            " [9.84646142e-01]\n",
            " [6.78341806e-01]\n",
            " [9.79715824e-01]\n",
            " [9.79480982e-01]\n",
            " [2.09757864e-01]\n",
            " [9.97531533e-01]\n",
            " [3.15281766e-04]\n",
            " [9.13720071e-01]\n",
            " [9.79296744e-01]\n",
            " [3.12837627e-04]\n",
            " [4.23133373e-01]\n",
            " [9.88081098e-01]\n",
            " [3.11436917e-04]\n",
            " [9.99908686e-01]\n",
            " [9.80468631e-01]\n",
            " [1.31806868e-04]\n",
            " [9.95315313e-01]\n",
            " [9.82734263e-01]\n",
            " [2.06355769e-02]\n",
            " [8.39514196e-01]\n",
            " [4.55711316e-03]\n",
            " [9.45837677e-01]\n",
            " [9.75520611e-01]\n",
            " [9.99478877e-01]\n",
            " [5.77504106e-04]\n",
            " [9.69144523e-01]\n",
            " [2.97582783e-02]\n",
            " [9.61325943e-01]\n",
            " [9.92224455e-01]\n",
            " [9.99113142e-01]\n",
            " [9.84548151e-01]\n",
            " [9.66547191e-01]\n",
            " [1.36189352e-04]\n",
            " [9.74321842e-01]\n",
            " [4.51382686e-04]\n",
            " [7.11777210e-02]\n",
            " [9.23319817e-01]\n",
            " [9.79991317e-01]\n",
            " [8.66813302e-01]\n",
            " [9.03570235e-01]\n",
            " [9.97723758e-01]\n",
            " [4.65126000e-02]\n",
            " [9.98931468e-01]\n",
            " [9.37769294e-01]\n",
            " [9.91126597e-01]\n",
            " [1.12584385e-03]\n",
            " [9.77420509e-01]\n",
            " [9.24132049e-01]\n",
            " [9.95194018e-01]\n",
            " [9.88891006e-01]\n",
            " [7.59038851e-02]\n",
            " [8.56525421e-01]\n",
            " [7.13602841e-01]\n",
            " [9.21300411e-01]\n",
            " [5.36761768e-02]\n",
            " [9.83265162e-01]\n",
            " [7.38149218e-04]\n",
            " [9.92084503e-01]\n",
            " [5.32075774e-06]\n",
            " [9.92936194e-01]\n",
            " [9.97818470e-01]\n",
            " [3.74046154e-03]\n",
            " [9.93010461e-01]\n",
            " [3.07814926e-02]\n",
            " [9.51840878e-01]\n",
            " [5.52175105e-01]\n",
            " [9.79891241e-01]\n",
            " [3.45085919e-01]\n",
            " [8.28908205e-01]\n",
            " [9.08675313e-01]\n",
            " [1.11396046e-04]\n",
            " [8.24841436e-07]\n",
            " [4.89126069e-05]\n",
            " [9.10216391e-01]\n",
            " [9.86720800e-01]\n",
            " [4.63549942e-02]\n",
            " [2.48082005e-03]\n",
            " [9.26336944e-01]\n",
            " [9.49736536e-01]\n",
            " [4.03527450e-03]\n",
            " [9.74269092e-01]\n",
            " [5.19822538e-03]\n",
            " [8.76248106e-02]\n",
            " [9.69292581e-01]\n",
            " [7.12792456e-01]\n",
            " [8.75771884e-03]\n",
            " [9.93910313e-01]\n",
            " [8.30330551e-01]\n",
            " [9.99149442e-01]\n",
            " [4.64009754e-05]\n",
            " [9.88497496e-01]\n",
            " [9.66123521e-01]\n",
            " [6.60110712e-01]\n",
            " [9.94542599e-01]\n",
            " [7.88393021e-02]\n",
            " [9.03594971e-01]\n",
            " [9.68190312e-01]\n",
            " [6.54930016e-03]\n",
            " [9.72066596e-02]\n",
            " [2.63865609e-02]\n",
            " [9.49079394e-01]\n",
            " [9.98009503e-01]\n",
            " [9.97698724e-01]\n",
            " [8.26732349e-03]\n",
            " [9.88418281e-01]\n",
            " [3.03596266e-06]\n",
            " [2.37428527e-02]\n",
            " [8.08760345e-01]\n",
            " [6.60679973e-08]\n",
            " [9.84874070e-01]\n",
            " [9.91644681e-01]\n",
            " [9.53770697e-01]\n",
            " [9.98141766e-01]\n",
            " [9.39774990e-01]\n",
            " [1.12188852e-03]\n",
            " [9.18209612e-01]\n",
            " [9.68107164e-01]\n",
            " [7.64628887e-01]\n",
            " [2.11350049e-09]\n",
            " [4.87560965e-03]\n",
            " [5.23713827e-01]\n",
            " [9.89087820e-01]\n",
            " [1.56647675e-02]\n",
            " [6.31741762e-01]\n",
            " [9.88299966e-01]\n",
            " [9.80747819e-01]\n",
            " [7.10531138e-04]\n",
            " [9.95562077e-01]\n",
            " [9.88542914e-01]\n",
            " [9.99511361e-01]\n",
            " [2.12888070e-03]\n",
            " [9.36400056e-01]\n",
            " [9.03920889e-01]\n",
            " [3.99369448e-01]\n",
            " [3.01796088e-12]\n",
            " [2.08733371e-04]\n",
            " [8.66630495e-01]\n",
            " [9.86816466e-01]\n",
            " [8.17651093e-01]\n",
            " [9.70350027e-01]\n",
            " [3.25534306e-02]\n",
            " [1.33275357e-03]\n",
            " [1.03191496e-03]\n",
            " [4.16616201e-02]\n",
            " [6.49266690e-03]\n",
            " [9.91616309e-01]\n",
            " [9.69463289e-01]\n",
            " [9.67011929e-01]\n",
            " [9.26940560e-01]\n",
            " [9.98692572e-01]\n",
            " [9.88274217e-01]\n",
            " [4.31360304e-01]\n",
            " [9.90281463e-01]\n",
            " [9.91766274e-01]\n",
            " [1.13185719e-02]\n",
            " [9.78923142e-01]\n",
            " [9.98955250e-01]\n",
            " [8.26258481e-01]\n",
            " [9.99702394e-01]\n",
            " [8.94550607e-03]\n",
            " [9.95092392e-01]\n",
            " [9.99916196e-01]\n",
            " [9.97865379e-01]\n",
            " [3.28855193e-03]\n",
            " [9.31920409e-01]]\n"
          ]
        }
      ]
    },
    {
      "cell_type": "markdown",
      "source": [
        "Normalizacao dos dados preditos"
      ],
      "metadata": {
        "id": "0kPhrrOZuQ_X"
      },
      "id": "0kPhrrOZuQ_X"
    },
    {
      "cell_type": "code",
      "source": [
        "pred = np.round(pred).flatten()\n",
        "print(pred)\n"
      ],
      "metadata": {
        "colab": {
          "base_uri": "https://localhost:8080/"
        },
        "id": "gTaKrreutT2v",
        "outputId": "085f635f-8d90-49a4-a937-1cdf4fc27466"
      },
      "id": "gTaKrreutT2v",
      "execution_count": 13,
      "outputs": [
        {
          "output_type": "stream",
          "name": "stdout",
          "text": [
            "[0. 0. 1. 0. 0. 1. 1. 1. 0. 1. 1. 0. 1. 1. 1. 1. 1. 0. 0. 0. 0. 1. 1. 1.\n",
            " 1. 1. 1. 0. 1. 0. 1. 1. 0. 0. 1. 0. 1. 1. 0. 1. 1. 0. 1. 0. 1. 1. 1. 0.\n",
            " 1. 0. 1. 1. 1. 1. 1. 0. 1. 0. 0. 1. 1. 1. 1. 1. 0. 1. 1. 1. 0. 1. 1. 1.\n",
            " 1. 0. 1. 1. 1. 0. 1. 0. 1. 0. 1. 1. 0. 1. 0. 1. 1. 1. 0. 1. 1. 0. 0. 0.\n",
            " 1. 1. 0. 0. 1. 1. 0. 1. 0. 0. 1. 1. 0. 1. 1. 1. 0. 1. 1. 1. 1. 0. 1. 1.\n",
            " 0. 0. 0. 1. 1. 1. 0. 1. 0. 0. 1. 0. 1. 1. 1. 1. 1. 0. 1. 1. 1. 0. 0. 1.\n",
            " 1. 0. 1. 1. 1. 0. 1. 1. 1. 0. 1. 1. 0. 0. 0. 1. 1. 1. 1. 0. 0. 0. 0. 0.\n",
            " 1. 1. 1. 1. 1. 1. 0. 1. 1. 0. 1. 1. 1. 1. 0. 1. 1. 1. 0. 1.]\n"
          ]
        }
      ]
    },
    {
      "cell_type": "code",
      "source": [
        "print(\"Acurácia na mão: \", np.mean(pred == Y_test))\n",
        "print(\"Evaluate: \", model.evaluate(X_test, Y_test))\n",
        "print(\"\")\n",
        "print(\"Acurácia: \", model.evaluate(X_test, Y_test)[1])\n"
      ],
      "metadata": {
        "colab": {
          "base_uri": "https://localhost:8080/"
        },
        "id": "wglPbkOntXk_",
        "outputId": "c5d15ae1-d115-4a6f-c4a2-ea9bc270165d"
      },
      "id": "wglPbkOntXk_",
      "execution_count": 14,
      "outputs": [
        {
          "output_type": "stream",
          "name": "stdout",
          "text": [
            "Acurácia na mão:  0.973404255319149\n",
            "6/6 [==============================] - 0s 3ms/step - loss: 0.0954 - accuracy: 0.9734\n",
            "Evaluate:  [0.09544672816991806, 0.9734042286872864]\n",
            "\n",
            "6/6 [==============================] - 0s 3ms/step - loss: 0.0954 - accuracy: 0.9734\n",
            "Acurácia:  0.9734042286872864\n"
          ]
        }
      ]
    },
    {
      "cell_type": "markdown",
      "source": [
        "Mostrar a matriz de confusão"
      ],
      "metadata": {
        "id": "7sqGTWaluVpP"
      },
      "id": "7sqGTWaluVpP"
    },
    {
      "cell_type": "code",
      "source": [
        "cm = confusion_matrix(Y_test, pred)\n",
        "plot_confusion_matrix(conf_mat=cm, figsize=(7, 7), show_normed=True)"
      ],
      "metadata": {
        "colab": {
          "base_uri": "https://localhost:8080/",
          "height": 654
        },
        "id": "orULKkfNtZ7x",
        "outputId": "36a66381-8fac-4472-8020-139520270371"
      },
      "id": "orULKkfNtZ7x",
      "execution_count": 15,
      "outputs": [
        {
          "output_type": "execute_result",
          "data": {
            "text/plain": [
              "(<Figure size 700x700 with 1 Axes>,\n",
              " <Axes: xlabel='predicted label', ylabel='true label'>)"
            ]
          },
          "metadata": {},
          "execution_count": 15
        },
        {
          "output_type": "display_data",
          "data": {
            "text/plain": [
              "<Figure size 700x700 with 1 Axes>"
            ],
            "image/png": "[encoded data removed]"
          },
          "metadata": {}
        }
      ]
    },
    {
      "cell_type": "markdown",
      "id": "ff23d55c-340b-44bb-ba3d-7a2294270763",
      "metadata": {
        "id": "ff23d55c-340b-44bb-ba3d-7a2294270763"
      },
      "source": [
        "## MINIST"
      ]
    },
    {
      "cell_type": "code",
      "execution_count": 16,
      "id": "b620a95f-e280-489e-a829-0eed73f1e76f",
      "metadata": {
        "id": "b620a95f-e280-489e-a829-0eed73f1e76f",
        "outputId": "ae796b74-a226-4eaa-8863-d74e27f7b895",
        "colab": {
          "base_uri": "https://localhost:8080/"
        }
      },
      "outputs": [
        {
          "output_type": "stream",
          "name": "stdout",
          "text": [
            "Downloading data from https://storage.googleapis.com/tensorflow/tf-keras-datasets/mnist.npz\n",
            "11490434/11490434 [==============================] - 2s 0us/step\n",
            "x_train.shape:  (60000, 28, 28)\n",
            "y_train.shape:  (60000,)\n",
            "x_test.shape:  (10000,)\n",
            "y_test.shape:  (10000,)\n"
          ]
        }
      ],
      "source": [
        "(x_train, y_train), (x_test, y_test) = tf.keras.datasets.mnist.load_data()\n",
        "print(\"x_train.shape: \", x_train.shape)\n",
        "print(\"y_train.shape: \", y_train.shape)\n",
        "print(\"x_test.shape: \", y_test.shape)\n",
        "print(\"y_test.shape: \", y_test.shape)"
      ]
    },
    {
      "cell_type": "markdown",
      "id": "ba629553-52b2-45e3-8550-82864960e576",
      "metadata": {
        "id": "ba629553-52b2-45e3-8550-82864960e576"
      },
      "source": [
        "Normalizar os dados"
      ]
    },
    {
      "cell_type": "code",
      "execution_count": 17,
      "id": "6b515b14-f090-48ec-a394-f7491e0178a7",
      "metadata": {
        "id": "6b515b14-f090-48ec-a394-f7491e0178a7"
      },
      "outputs": [],
      "source": [
        "x_train, x_test = x_train/255.0, x_test/255.0\n",
        "y_train, y_test = y_train.flatten(), y_test.flatten()"
      ]
    },
    {
      "cell_type": "markdown",
      "id": "1168ca99-2eb0-401f-962f-cd9d96ec53c1",
      "metadata": {
        "id": "1168ca99-2eb0-401f-962f-cd9d96ec53c1"
      },
      "source": [
        "Criação do modelo"
      ]
    },
    {
      "cell_type": "code",
      "execution_count": 18,
      "id": "acd82310-5f88-4fff-99a8-6d5256934528",
      "metadata": {
        "id": "acd82310-5f88-4fff-99a8-6d5256934528"
      },
      "outputs": [],
      "source": [
        "i = tf.keras.layers.Input(shape=(28, 28))\n",
        "x = tf.keras.layers.Flatten()(i)\n",
        "x = tf.keras.layers.Dense(128, activation=\"relu\")(x)\n",
        "x = tf.keras.layers.Dropout(0.2)(x)\n",
        "x = tf.keras.layers.Dense(10, activation=\"softmax\")(x)\n",
        "model = tf.keras.models.Model(i, x)"
      ]
    },
    {
      "cell_type": "markdown",
      "id": "6c0e61de-4b0f-4ada-a2ec-5fd803fed81f",
      "metadata": {
        "id": "6c0e61de-4b0f-4ada-a2ec-5fd803fed81f"
      },
      "source": [
        "Compilação e treino do modelo"
      ]
    },
    {
      "cell_type": "code",
      "execution_count": 19,
      "id": "10bded44-9b34-4b0b-9443-d87fdb419936",
      "metadata": {
        "id": "10bded44-9b34-4b0b-9443-d87fdb419936",
        "outputId": "0aa141dd-ce09-4f6b-bbe6-138101136ad3",
        "colab": {
          "base_uri": "https://localhost:8080/"
        }
      },
      "outputs": [
        {
          "output_type": "stream",
          "name": "stdout",
          "text": [
            "Epoch 1/10\n",
            "1875/1875 [==============================] - 8s 3ms/step - loss: 0.3024 - accuracy: 0.9110 - val_loss: 0.1382 - val_accuracy: 0.9573\n",
            "Epoch 2/10\n",
            "1875/1875 [==============================] - 7s 4ms/step - loss: 0.1468 - accuracy: 0.9564 - val_loss: 0.1039 - val_accuracy: 0.9669\n",
            "Epoch 3/10\n",
            "1875/1875 [==============================] - 6s 3ms/step - loss: 0.1090 - accuracy: 0.9665 - val_loss: 0.0878 - val_accuracy: 0.9735\n",
            "Epoch 4/10\n",
            "1875/1875 [==============================] - 6s 3ms/step - loss: 0.0900 - accuracy: 0.9722 - val_loss: 0.0773 - val_accuracy: 0.9751\n",
            "Epoch 5/10\n",
            "1875/1875 [==============================] - 5s 3ms/step - loss: 0.0767 - accuracy: 0.9764 - val_loss: 0.0751 - val_accuracy: 0.9760\n",
            "Epoch 6/10\n",
            "1875/1875 [==============================] - 6s 3ms/step - loss: 0.0664 - accuracy: 0.9788 - val_loss: 0.0712 - val_accuracy: 0.9768\n",
            "Epoch 7/10\n",
            "1875/1875 [==============================] - 6s 3ms/step - loss: 0.0570 - accuracy: 0.9815 - val_loss: 0.0702 - val_accuracy: 0.9782\n",
            "Epoch 8/10\n",
            "1875/1875 [==============================] - 6s 3ms/step - loss: 0.0551 - accuracy: 0.9820 - val_loss: 0.0707 - val_accuracy: 0.9783\n",
            "Epoch 9/10\n",
            "1875/1875 [==============================] - 6s 3ms/step - loss: 0.0468 - accuracy: 0.9845 - val_loss: 0.0671 - val_accuracy: 0.9792\n",
            "Epoch 10/10\n",
            "1875/1875 [==============================] - 6s 3ms/step - loss: 0.0443 - accuracy: 0.9850 - val_loss: 0.0741 - val_accuracy: 0.9778\n"
          ]
        }
      ],
      "source": [
        "model.compile(optimizer='adam', loss='sparse_categorical_crossentropy', metrics=['accuracy'])\n",
        "r = model.fit(x_train,y_train,validation_data=(x_test, y_test),epochs=10)"
      ]
    },
    {
      "cell_type": "markdown",
      "id": "955a97c8-4f7b-483e-804b-a685a7262dd4",
      "metadata": {
        "id": "955a97c8-4f7b-483e-804b-a685a7262dd4"
      },
      "source": [
        "### Avaliação do modelo"
      ]
    },
    {
      "cell_type": "markdown",
      "id": "833dba51-dc84-4d64-9fa5-110e2dbd7ffb",
      "metadata": {
        "id": "833dba51-dc84-4d64-9fa5-110e2dbd7ffb"
      },
      "source": [
        "Plotar a função de perda"
      ]
    },
    {
      "cell_type": "code",
      "execution_count": 20,
      "id": "b411eddb-2c76-43b5-8c06-fc4f95e71b4b",
      "metadata": {
        "id": "b411eddb-2c76-43b5-8c06-fc4f95e71b4b",
        "outputId": "102a8002-bd78-409c-c4c5-b6e2ed8d5b64",
        "colab": {
          "base_uri": "https://localhost:8080/",
          "height": 447
        }
      },
      "outputs": [
        {
          "output_type": "execute_result",
          "data": {
            "text/plain": [
              "<matplotlib.legend.Legend at 0x7f2029fe7610>"
            ]
          },
          "metadata": {},
          "execution_count": 20
        },
        {
          "output_type": "display_data",
          "data": {
            "text/plain": [
              "<Figure size 640x480 with 1 Axes>"
            ],
            "image/png": "[encoded data removed]"
          },
          "metadata": {}
        }
      ],
      "source": [
        "plt.plot(r.history[\"loss\"], label=\"loss\")\n",
        "plt.plot(r.history[\"val_loss\"], label=\"val_loss\")\n",
        "plt.legend()"
      ]
    },
    {
      "cell_type": "markdown",
      "id": "2270902e-28ef-4fdc-a374-431fa5c8483a",
      "metadata": {
        "id": "2270902e-28ef-4fdc-a374-431fa5c8483a"
      },
      "source": [
        "Plotar acurácia"
      ]
    },
    {
      "cell_type": "code",
      "execution_count": 21,
      "id": "d8a1770e-682c-4971-921a-b837e0a02f9a",
      "metadata": {
        "id": "d8a1770e-682c-4971-921a-b837e0a02f9a",
        "outputId": "c1d87682-eeef-40dd-a6d3-e1aa38885aac",
        "colab": {
          "base_uri": "https://localhost:8080/",
          "height": 447
        }
      },
      "outputs": [
        {
          "output_type": "execute_result",
          "data": {
            "text/plain": [
              "<matplotlib.legend.Legend at 0x7f202a18f340>"
            ]
          },
          "metadata": {},
          "execution_count": 21
        },
        {
          "output_type": "display_data",
          "data": {
            "text/plain": [
              "<Figure size 640x480 with 1 Axes>"
            ],
            "image/png": "[encoded data removed]"
          },
          "metadata": {}
        }
      ],
      "source": [
        "plt.plot(r.history[\"accuracy\"], label=\"acc\")\n",
        "plt.plot(r.history[\"val_accuracy\"], label=\"val_acc\")\n",
        "plt.legend()"
      ]
    },
    {
      "cell_type": "markdown",
      "id": "cbb8d7d8-9ab5-418a-afb1-a47e67be729a",
      "metadata": {
        "id": "cbb8d7d8-9ab5-418a-afb1-a47e67be729a"
      },
      "source": [
        "### Predições e resultados"
      ]
    },
    {
      "cell_type": "markdown",
      "id": "8f87eb00-9dda-4198-b7ff-b3e4a5489791",
      "metadata": {
        "id": "8f87eb00-9dda-4198-b7ff-b3e4a5489791"
      },
      "source": [
        "predict() gera o valor de todos os K neurônios de saída\n",
        "argmax() dá o índice do neurônio com maior valor (softmax)"
      ]
    },
    {
      "cell_type": "code",
      "execution_count": 22,
      "id": "98b58c46-06e3-457d-8ae0-32521cdbe8d9",
      "metadata": {
        "id": "98b58c46-06e3-457d-8ae0-32521cdbe8d9",
        "outputId": "d153399a-94f0-429f-99dd-76ed3093fc4c",
        "colab": {
          "base_uri": "https://localhost:8080/"
        }
      },
      "outputs": [
        {
          "output_type": "stream",
          "name": "stdout",
          "text": [
            "313/313 [==============================] - 1s 3ms/step - loss: 0.0741 - accuracy: 0.9778\n",
            "[0.0740848109126091, 0.9778000116348267]\n"
          ]
        }
      ],
      "source": [
        "print( model.evaluate(x_test, y_test) )"
      ]
    },
    {
      "cell_type": "markdown",
      "id": "7f2ca8a4-a251-4b27-bc08-45ce047c3aca",
      "metadata": {
        "id": "7f2ca8a4-a251-4b27-bc08-45ce047c3aca"
      },
      "source": [
        "Mostrar a matriz de confusão"
      ]
    },
    {
      "cell_type": "code",
      "execution_count": 23,
      "id": "f9ccfaca-73b7-4963-bbd9-0b8119abbc82",
      "metadata": {
        "id": "f9ccfaca-73b7-4963-bbd9-0b8119abbc82",
        "outputId": "fab386c7-dd45-436c-a169-a8be5704549e",
        "colab": {
          "base_uri": "https://localhost:8080/",
          "height": 671
        }
      },
      "outputs": [
        {
          "output_type": "stream",
          "name": "stdout",
          "text": [
            "313/313 [==============================] - 1s 2ms/step\n"
          ]
        },
        {
          "output_type": "execute_result",
          "data": {
            "text/plain": [
              "(<Figure size 700x700 with 1 Axes>,\n",
              " <Axes: xlabel='predicted label', ylabel='true label'>)"
            ]
          },
          "metadata": {},
          "execution_count": 23
        },
        {
          "output_type": "display_data",
          "data": {
            "text/plain": [
              "<Figure size 700x700 with 1 Axes>"
            ],
            "image/png": "[encoded data removed]"
          },
          "metadata": {}
        }
      ],
      "source": [
        "y_pred = model.predict(x_test).argmax(axis=1)\n",
        "cm = confusion_matrix(y_pred, y_test)\n",
        "plot_confusion_matrix(conf_mat=cm, figsize=(7, 7), show_normed=True)"
      ]
    },
    {
      "cell_type": "code",
      "execution_count": 24,
      "id": "7bc27c99-3db4-46b5-8530-8025bb87c128",
      "metadata": {
        "id": "7bc27c99-3db4-46b5-8530-8025bb87c128",
        "outputId": "56c884d9-a96a-4554-bce1-f30fdcb573e1",
        "colab": {
          "base_uri": "https://localhost:8080/",
          "height": 469
        }
      },
      "outputs": [
        {
          "output_type": "execute_result",
          "data": {
            "text/plain": [
              "Text(0.5, 1.0, 'True label: 3 Predicted: 2')"
            ]
          },
          "metadata": {},
          "execution_count": 24
        },
        {
          "output_type": "display_data",
          "data": {
            "text/plain": [
              "<Figure size 640x480 with 1 Axes>"
            ],
            "image/png": "[encoded data removed]"
          },
          "metadata": {}
        }
      ],
      "source": [
        "# mostrar algumas classificações erradas\n",
        "misclassified = np.where(y_pred != y_test)[0]\n",
        "i = np.random.choice(misclassified)\n",
        "plt.imshow(x_test[i].reshape(28, 28), cmap=\"gray\")\n",
        "plt.title(\"True label: %s Predicted: %s\" % (y_test[i], y_pred[i]))"
      ]
    },
    {
      "cell_type": "markdown",
      "id": "00fc1d3c-79fe-44ab-b379-1dd02f38f799",
      "metadata": {
        "id": "00fc1d3c-79fe-44ab-b379-1dd02f38f799"
      },
      "source": [
        "## Biomassa\n",
        "Download da base de dados de uma fonte externa no formato CSV"
      ]
    },
    {
      "cell_type": "code",
      "execution_count": 25,
      "id": "f8a10b93-ca54-4a29-82d7-19b353fe9b25",
      "metadata": {
        "colab": {
          "base_uri": "https://localhost:8080/"
        },
        "id": "f8a10b93-ca54-4a29-82d7-19b353fe9b25",
        "outputId": "ca6c99a7-733a-4135-c3e2-60c0df59c746"
      },
      "outputs": [
        {
          "output_type": "stream",
          "name": "stdout",
          "text": [
            "--2023-05-01 01:26:34--  http://www.razer.net.br/datasets/Biomassa_REG.csv\n",
            "Resolving www.razer.net.br (www.razer.net.br)... 178.128.150.229\n",
            "Connecting to www.razer.net.br (www.razer.net.br)|178.128.150.229|:80... connected.\n",
            "HTTP request sent, awaiting response... 200 OK\n",
            "Length: 82988 (81K) [text/csv]\n",
            "Saving to: ‘Biomassa_REG.csv’\n",
            "\n",
            "Biomassa_REG.csv    100%[===================>]  81.04K   191KB/s    in 0.4s    \n",
            "\n",
            "2023-05-01 01:26:36 (191 KB/s) - ‘Biomassa_REG.csv’ saved [82988/82988]\n",
            "\n"
          ]
        }
      ],
      "source": [
        "!wget http://www.razer.net.br/datasets/Biomassa_REG.csv"
      ]
    },
    {
      "cell_type": "markdown",
      "source": [
        "Leitura e normalização dos valores numéricos decimais"
      ],
      "metadata": {
        "id": "tbOdcHRQu2hB"
      },
      "id": "tbOdcHRQu2hB"
    },
    {
      "cell_type": "code",
      "execution_count": 26,
      "id": "5bcb0600-5ca1-4edb-8621-e0a48b6a63c8",
      "metadata": {
        "tags": [],
        "id": "5bcb0600-5ca1-4edb-8621-e0a48b6a63c8"
      },
      "outputs": [],
      "source": [
        "data = pd.read_csv(\"Biomassa_REG.csv\", sep=\";\", decimal=\",\").values\n",
        "X = data[:,0:3].astype(float)\n",
        "Y = data[:,3].astype(float)"
      ]
    },
    {
      "cell_type": "markdown",
      "source": [
        "Divisão da base de treino e teste. 1/3 da base para testes e 2/3 para treinamento"
      ],
      "metadata": {
        "id": "GUscQdzyvAN2"
      },
      "id": "GUscQdzyvAN2"
    },
    {
      "cell_type": "code",
      "source": [
        "x_train, x_test, y_train, y_test = train_test_split(X, Y,test_size=0.33)\n",
        "dap_train = x_train[:,0]\n",
        "h_train = x_train[:,1]\n",
        "dap_test = x_test[:,0]\n",
        "h_test = x_test[:,1]"
      ],
      "metadata": {
        "id": "nX1Y9D-RpbDb"
      },
      "id": "nX1Y9D-RpbDb",
      "execution_count": 27,
      "outputs": []
    },
    {
      "cell_type": "markdown",
      "source": [
        "Construção do modelo de rede neural"
      ],
      "metadata": {
        "id": "nKpXnC0UvBeH"
      },
      "id": "nKpXnC0UvBeH"
    },
    {
      "cell_type": "code",
      "source": [
        "i = tf.keras.layers.Input(shape=(3,))\n",
        "x = tf.keras.layers.Dense(50, activation=\"relu\")(i)\n",
        "x = tf.keras.layers.Dense(1)(x)\n",
        "model = tf.keras.models.Model(i, x)"
      ],
      "metadata": {
        "id": "XxLp8DTapf_o"
      },
      "id": "XxLp8DTapf_o",
      "execution_count": 28,
      "outputs": []
    },
    {
      "cell_type": "markdown",
      "source": [
        "Definição de funções de métrica de desempenho para modelo de regressão"
      ],
      "metadata": {
        "id": "wgRCHEjHvDx1"
      },
      "id": "wgRCHEjHvDx1"
    },
    {
      "cell_type": "code",
      "source": [
        "def rmse(y_true, y_pred):\n",
        "  return backend.sqrt(backend.mean( backend.square(y_pred - y_true), axis=-1) )\n",
        "def r2(y_true, y_pred):\n",
        "  media = backend.mean(y_true)\n",
        "  num = backend.sum (backend.square(y_true - y_pred))\n",
        "  den = backend.sum (backend.square(y_true - media))\n",
        "  return (1.0 - num/den)"
      ],
      "metadata": {
        "id": "XyJ4oNgPrH0Y"
      },
      "id": "XyJ4oNgPrH0Y",
      "execution_count": 29,
      "outputs": []
    },
    {
      "cell_type": "markdown",
      "source": [
        "Treinamento do modelo utilizando otimizador Adam"
      ],
      "metadata": {
        "id": "IlqAMDr1vKaN"
      },
      "id": "IlqAMDr1vKaN"
    },
    {
      "cell_type": "code",
      "source": [
        "optimizer=tf.keras.optimizers.Adam(learning_rate=0.05)\n",
        "# optimizer=tf.keras.optimizers.SGD(learning_rate=0.2, momentum=0.5)\n",
        "# optimizer=tf.keras.optimizers.RMSprop(0.01)\n",
        "model.compile(optimizer=optimizer,loss=\"mse\",metrics=[rmse, r2])"
      ],
      "metadata": {
        "id": "3iPnmyk8rK0o"
      },
      "id": "3iPnmyk8rK0o",
      "execution_count": 30,
      "outputs": []
    },
    {
      "cell_type": "markdown",
      "source": [
        "Adicionando Early Stopping para parar o treinamento se não houver melhora após 20 epochs"
      ],
      "metadata": {
        "id": "17MH6M7XvUOO"
      },
      "id": "17MH6M7XvUOO"
    },
    {
      "cell_type": "code",
      "source": [
        "early_stop = tf.keras.callbacks.EarlyStopping(monitor='val_loss',patience=20,restore_best_weights=True)\n",
        "r = model.fit(x_train, y_train,epochs=1500,validation_data=(x_test, y_test),callbacks=[early_stop])"
      ],
      "metadata": {
        "colab": {
          "base_uri": "https://localhost:8080/"
        },
        "id": "G1Q4KMvmrNp0",
        "outputId": "2a117f23-9aec-4ecd-b5c8-89db7f632b54"
      },
      "id": "G1Q4KMvmrNp0",
      "execution_count": 31,
      "outputs": [
        {
          "output_type": "stream",
          "name": "stdout",
          "text": [
            "Epoch 1/1500\n",
            "84/84 [==============================] - 2s 7ms/step - loss: 12130654.0000 - rmse: 1521.7186 - r2: -0.5444 - val_loss: 5014546.0000 - val_rmse: 1517.9092 - val_r2: -0.2556\n",
            "Epoch 2/1500\n",
            "84/84 [==============================] - 0s 4ms/step - loss: 9081908.0000 - rmse: 1490.8342 - r2: -0.5274 - val_loss: 4039800.7500 - val_rmse: 1144.7765 - val_r2: 0.1238\n",
            "Epoch 3/1500\n",
            "84/84 [==============================] - 0s 5ms/step - loss: 7763253.5000 - rmse: 1151.9954 - r2: 0.2738 - val_loss: 3553102.5000 - val_rmse: 879.3121 - val_r2: 0.2492\n",
            "Epoch 4/1500\n",
            "84/84 [==============================] - 0s 5ms/step - loss: 7073673.5000 - rmse: 970.1938 - r2: 0.0620 - val_loss: 3451448.2500 - val_rmse: 656.6770 - val_r2: 0.5220\n",
            "Epoch 5/1500\n",
            "84/84 [==============================] - 0s 5ms/step - loss: 6665838.5000 - rmse: 880.4088 - r2: 0.3346 - val_loss: 3295830.2500 - val_rmse: 710.8491 - val_r2: 0.3494\n",
            "Epoch 6/1500\n",
            "84/84 [==============================] - 0s 5ms/step - loss: 6458952.0000 - rmse: 799.6579 - r2: 0.2926 - val_loss: 3567376.7500 - val_rmse: 793.0381 - val_r2: 0.0865\n",
            "Epoch 7/1500\n",
            "84/84 [==============================] - 0s 4ms/step - loss: 6255429.5000 - rmse: 795.5759 - r2: 0.3785 - val_loss: 3273363.2500 - val_rmse: 689.1259 - val_r2: 0.3029\n",
            "Epoch 8/1500\n",
            "84/84 [==============================] - 0s 5ms/step - loss: 6243100.0000 - rmse: 822.7917 - r2: 0.3120 - val_loss: 3457876.7500 - val_rmse: 715.6920 - val_r2: 0.1663\n",
            "Epoch 9/1500\n",
            "84/84 [==============================] - 0s 4ms/step - loss: 6180221.5000 - rmse: 763.7696 - r2: 0.2471 - val_loss: 3198002.0000 - val_rmse: 640.3904 - val_r2: 0.3686\n",
            "Epoch 10/1500\n",
            "84/84 [==============================] - 0s 5ms/step - loss: 6028531.5000 - rmse: 738.0821 - r2: 0.1357 - val_loss: 3465798.7500 - val_rmse: 690.1333 - val_r2: 0.1641\n",
            "Epoch 11/1500\n",
            "84/84 [==============================] - 0s 5ms/step - loss: 5796400.5000 - rmse: 694.2388 - r2: 0.2737 - val_loss: 3617864.5000 - val_rmse: 703.4396 - val_r2: 0.0937\n",
            "Epoch 12/1500\n",
            "84/84 [==============================] - 0s 4ms/step - loss: 5937238.0000 - rmse: 728.2008 - r2: -0.2987 - val_loss: 3316757.2500 - val_rmse: 643.0542 - val_r2: 0.2535\n",
            "Epoch 13/1500\n",
            "84/84 [==============================] - 0s 5ms/step - loss: 5744444.0000 - rmse: 684.0617 - r2: 0.2074 - val_loss: 3227109.5000 - val_rmse: 623.0330 - val_r2: 0.2988\n",
            "Epoch 14/1500\n",
            "84/84 [==============================] - 0s 4ms/step - loss: 5678126.5000 - rmse: 681.7219 - r2: 0.3933 - val_loss: 3343263.2500 - val_rmse: 635.9819 - val_r2: 0.2411\n",
            "Epoch 15/1500\n",
            "84/84 [==============================] - 0s 5ms/step - loss: 5525709.5000 - rmse: 666.8641 - r2: 0.3261 - val_loss: 3113433.5000 - val_rmse: 593.3113 - val_r2: 0.3618\n",
            "Epoch 16/1500\n",
            "84/84 [==============================] - 0s 5ms/step - loss: 5504473.0000 - rmse: 669.5984 - r2: 0.3605 - val_loss: 3078868.5000 - val_rmse: 581.0381 - val_r2: 0.3806\n",
            "Epoch 17/1500\n",
            "84/84 [==============================] - 0s 5ms/step - loss: 5488734.5000 - rmse: 626.0963 - r2: 0.5042 - val_loss: 3636114.7500 - val_rmse: 671.2110 - val_r2: 0.1292\n",
            "Epoch 18/1500\n",
            "84/84 [==============================] - 1s 7ms/step - loss: 5280670.5000 - rmse: 618.4036 - r2: 0.4978 - val_loss: 4256097.0000 - val_rmse: 768.9825 - val_r2: -0.0928\n",
            "Epoch 19/1500\n",
            "84/84 [==============================] - 1s 7ms/step - loss: 5431762.0000 - rmse: 651.4171 - r2: 0.3600 - val_loss: 2938507.7500 - val_rmse: 546.5217 - val_r2: 0.4491\n",
            "Epoch 20/1500\n",
            "84/84 [==============================] - 1s 7ms/step - loss: 5353941.0000 - rmse: 625.6093 - r2: 0.3741 - val_loss: 3134628.0000 - val_rmse: 578.9870 - val_r2: 0.3473\n",
            "Epoch 21/1500\n",
            "84/84 [==============================] - 1s 7ms/step - loss: 5202277.0000 - rmse: 614.0263 - r2: 0.3964 - val_loss: 2819499.5000 - val_rmse: 521.7615 - val_r2: 0.5054\n",
            "Epoch 22/1500\n",
            "84/84 [==============================] - 0s 5ms/step - loss: 5236291.5000 - rmse: 604.6519 - r2: 0.3730 - val_loss: 2848849.2500 - val_rmse: 525.6989 - val_r2: 0.4828\n",
            "Epoch 23/1500\n",
            "84/84 [==============================] - 0s 4ms/step - loss: 5208680.0000 - rmse: 603.6664 - r2: 0.5203 - val_loss: 3339011.5000 - val_rmse: 601.1445 - val_r2: 0.2759\n",
            "Epoch 24/1500\n",
            "84/84 [==============================] - 0s 5ms/step - loss: 5079814.5000 - rmse: 590.5726 - r2: 0.4011 - val_loss: 3496220.0000 - val_rmse: 619.5907 - val_r2: 0.2246\n",
            "Epoch 25/1500\n",
            "84/84 [==============================] - 0s 4ms/step - loss: 5174933.5000 - rmse: 590.0444 - r2: 0.4770 - val_loss: 3393529.5000 - val_rmse: 597.9696 - val_r2: 0.2672\n",
            "Epoch 26/1500\n",
            "84/84 [==============================] - 0s 4ms/step - loss: 5077041.0000 - rmse: 572.8262 - r2: 0.4580 - val_loss: 2916350.0000 - val_rmse: 533.8557 - val_r2: 0.4402\n",
            "Epoch 27/1500\n",
            "84/84 [==============================] - 0s 4ms/step - loss: 5193184.5000 - rmse: 589.8320 - r2: 0.2581 - val_loss: 2609931.5000 - val_rmse: 469.7317 - val_r2: 0.6504\n",
            "Epoch 28/1500\n",
            "84/84 [==============================] - 0s 5ms/step - loss: 5024039.5000 - rmse: 566.0423 - r2: 0.5107 - val_loss: 2633271.5000 - val_rmse: 481.0725 - val_r2: 0.5783\n",
            "Epoch 29/1500\n",
            "84/84 [==============================] - 0s 4ms/step - loss: 5123380.5000 - rmse: 577.3804 - r2: 0.3777 - val_loss: 2670645.2500 - val_rmse: 486.5118 - val_r2: 0.5522\n",
            "Epoch 30/1500\n",
            "84/84 [==============================] - 0s 5ms/step - loss: 5348285.5000 - rmse: 592.3270 - r2: 0.3059 - val_loss: 2911266.5000 - val_rmse: 475.3850 - val_r2: 0.7152\n",
            "Epoch 31/1500\n",
            "84/84 [==============================] - 0s 4ms/step - loss: 5309230.5000 - rmse: 555.8898 - r2: 0.4067 - val_loss: 3216065.5000 - val_rmse: 577.3359 - val_r2: 0.3389\n",
            "Epoch 32/1500\n",
            "84/84 [==============================] - 0s 4ms/step - loss: 4856705.5000 - rmse: 562.9256 - r2: 0.1413 - val_loss: 3117736.0000 - val_rmse: 553.4803 - val_r2: 0.3776\n",
            "Epoch 33/1500\n",
            "84/84 [==============================] - 0s 5ms/step - loss: 4884952.5000 - rmse: 545.1445 - r2: 0.5264 - val_loss: 2767113.0000 - val_rmse: 502.8269 - val_r2: 0.5006\n",
            "Epoch 34/1500\n",
            "84/84 [==============================] - 0s 5ms/step - loss: 4759262.0000 - rmse: 550.5959 - r2: 0.4198 - val_loss: 2469899.7500 - val_rmse: 452.1118 - val_r2: 0.6539\n",
            "Epoch 35/1500\n",
            "84/84 [==============================] - 0s 5ms/step - loss: 5030619.5000 - rmse: 558.1296 - r2: 0.4949 - val_loss: 2553505.2500 - val_rmse: 468.2986 - val_r2: 0.5881\n",
            "Epoch 36/1500\n",
            "84/84 [==============================] - 0s 5ms/step - loss: 4939084.0000 - rmse: 570.9777 - r2: 0.3265 - val_loss: 2446997.5000 - val_rmse: 447.8391 - val_r2: 0.6577\n",
            "Epoch 37/1500\n",
            "84/84 [==============================] - 0s 5ms/step - loss: 4760503.0000 - rmse: 547.3053 - r2: 0.5213 - val_loss: 2448379.2500 - val_rmse: 443.6592 - val_r2: 0.6893\n",
            "Epoch 38/1500\n",
            "84/84 [==============================] - 0s 4ms/step - loss: 4969024.5000 - rmse: 544.6056 - r2: 0.5655 - val_loss: 2571492.2500 - val_rmse: 468.0635 - val_r2: 0.5756\n",
            "Epoch 39/1500\n",
            "84/84 [==============================] - 0s 5ms/step - loss: 4835071.0000 - rmse: 535.5254 - r2: 0.5043 - val_loss: 2591018.5000 - val_rmse: 475.7562 - val_r2: 0.5623\n",
            "Epoch 40/1500\n",
            "84/84 [==============================] - 0s 4ms/step - loss: 4806916.0000 - rmse: 546.8107 - r2: 0.4390 - val_loss: 3125882.2500 - val_rmse: 534.6783 - val_r2: 0.3951\n",
            "Epoch 41/1500\n",
            "84/84 [==============================] - 0s 5ms/step - loss: 4771240.0000 - rmse: 530.7215 - r2: 0.5892 - val_loss: 2422271.5000 - val_rmse: 449.0800 - val_r2: 0.6348\n",
            "Epoch 42/1500\n",
            "84/84 [==============================] - 0s 5ms/step - loss: 4840215.5000 - rmse: 535.3734 - r2: 0.6255 - val_loss: 2848727.0000 - val_rmse: 505.0268 - val_r2: 0.4780\n",
            "Epoch 43/1500\n",
            "84/84 [==============================] - 0s 5ms/step - loss: 4721427.5000 - rmse: 539.5577 - r2: 0.5429 - val_loss: 2331951.5000 - val_rmse: 432.2851 - val_r2: 0.7027\n",
            "Epoch 44/1500\n",
            "84/84 [==============================] - 0s 5ms/step - loss: 4688033.0000 - rmse: 524.1223 - r2: 0.4041 - val_loss: 2364765.7500 - val_rmse: 429.3828 - val_r2: 0.7339\n",
            "Epoch 45/1500\n",
            "84/84 [==============================] - 0s 5ms/step - loss: 4743133.5000 - rmse: 518.3967 - r2: 0.6670 - val_loss: 3609163.2500 - val_rmse: 613.6116 - val_r2: 0.2647\n",
            "Epoch 46/1500\n",
            "84/84 [==============================] - 1s 7ms/step - loss: 4640816.0000 - rmse: 530.7305 - r2: 0.2151 - val_loss: 2989346.0000 - val_rmse: 526.5580 - val_r2: 0.4391\n",
            "Epoch 47/1500\n",
            "84/84 [==============================] - 1s 7ms/step - loss: 4654551.0000 - rmse: 534.8881 - r2: 0.5360 - val_loss: 3473844.7500 - val_rmse: 586.2161 - val_r2: 0.3081\n",
            "Epoch 48/1500\n",
            "84/84 [==============================] - 1s 6ms/step - loss: 4627855.5000 - rmse: 544.3362 - r2: 0.5454 - val_loss: 2375509.2500 - val_rmse: 430.8907 - val_r2: 0.7389\n",
            "Epoch 49/1500\n",
            "84/84 [==============================] - 1s 6ms/step - loss: 4913907.0000 - rmse: 545.3290 - r2: 0.1687 - val_loss: 2417795.0000 - val_rmse: 457.7204 - val_r2: 0.6211\n",
            "Epoch 50/1500\n",
            "84/84 [==============================] - 0s 5ms/step - loss: 4779618.5000 - rmse: 545.7240 - r2: 0.6276 - val_loss: 2296189.0000 - val_rmse: 430.1125 - val_r2: 0.6807\n",
            "Epoch 51/1500\n",
            "84/84 [==============================] - 0s 5ms/step - loss: 4629205.0000 - rmse: 508.3917 - r2: 0.6449 - val_loss: 2870219.7500 - val_rmse: 509.8253 - val_r2: 0.4770\n",
            "Epoch 52/1500\n",
            "84/84 [==============================] - 0s 5ms/step - loss: 4562756.0000 - rmse: 493.8229 - r2: 0.6468 - val_loss: 4139515.7500 - val_rmse: 665.2719 - val_r2: 0.1466\n",
            "Epoch 53/1500\n",
            "84/84 [==============================] - 0s 5ms/step - loss: 5286471.5000 - rmse: 580.4078 - r2: 0.3477 - val_loss: 2253162.5000 - val_rmse: 420.8547 - val_r2: 0.7111\n",
            "Epoch 54/1500\n",
            "84/84 [==============================] - 0s 5ms/step - loss: 4644676.0000 - rmse: 510.7700 - r2: 0.6104 - val_loss: 2359696.7500 - val_rmse: 438.4223 - val_r2: 0.6405\n",
            "Epoch 55/1500\n",
            "84/84 [==============================] - 0s 5ms/step - loss: 4608509.5000 - rmse: 502.5401 - r2: 0.6905 - val_loss: 4665188.0000 - val_rmse: 748.4449 - val_r2: 0.0093\n",
            "Epoch 56/1500\n",
            "84/84 [==============================] - 0s 5ms/step - loss: 4565572.5000 - rmse: 545.2004 - r2: 0.4769 - val_loss: 2347219.7500 - val_rmse: 438.7391 - val_r2: 0.6404\n",
            "Epoch 57/1500\n",
            "84/84 [==============================] - 0s 5ms/step - loss: 4413200.0000 - rmse: 485.0152 - r2: 0.5086 - val_loss: 2531485.0000 - val_rmse: 472.1979 - val_r2: 0.5734\n",
            "Epoch 58/1500\n",
            "84/84 [==============================] - 0s 4ms/step - loss: 4552436.5000 - rmse: 522.7923 - r2: 0.1097 - val_loss: 2350293.5000 - val_rmse: 439.6642 - val_r2: 0.6356\n",
            "Epoch 59/1500\n",
            "84/84 [==============================] - 0s 5ms/step - loss: 4575958.0000 - rmse: 520.2532 - r2: 0.5782 - val_loss: 2294055.7500 - val_rmse: 420.4411 - val_r2: 0.7651\n",
            "Epoch 60/1500\n",
            "84/84 [==============================] - 0s 4ms/step - loss: 4585437.5000 - rmse: 489.7979 - r2: 0.6672 - val_loss: 5347209.5000 - val_rmse: 807.0243 - val_r2: -0.1334\n",
            "Epoch 61/1500\n",
            "84/84 [==============================] - 0s 5ms/step - loss: 4832666.5000 - rmse: 559.8487 - r2: 0.5392 - val_loss: 2175604.2500 - val_rmse: 415.5537 - val_r2: 0.7213\n",
            "Epoch 62/1500\n",
            "84/84 [==============================] - 0s 4ms/step - loss: 4449773.0000 - rmse: 495.8216 - r2: 0.4971 - val_loss: 2157388.0000 - val_rmse: 413.3312 - val_r2: 0.7236\n",
            "Epoch 63/1500\n",
            "84/84 [==============================] - 0s 5ms/step - loss: 4449365.0000 - rmse: 503.9129 - r2: 0.4892 - val_loss: 2227851.5000 - val_rmse: 424.9993 - val_r2: 0.6744\n",
            "Epoch 64/1500\n",
            "84/84 [==============================] - 0s 5ms/step - loss: 4384652.5000 - rmse: 483.4669 - r2: 0.6759 - val_loss: 2647552.5000 - val_rmse: 484.1620 - val_r2: 0.5385\n",
            "Epoch 65/1500\n",
            "84/84 [==============================] - 0s 5ms/step - loss: 4508341.0000 - rmse: 525.7437 - r2: 0.4623 - val_loss: 2152821.5000 - val_rmse: 414.8924 - val_r2: 0.7142\n",
            "Epoch 66/1500\n",
            "84/84 [==============================] - 0s 4ms/step - loss: 4871556.5000 - rmse: 518.0096 - r2: 0.6097 - val_loss: 2821293.0000 - val_rmse: 500.6198 - val_r2: 0.4951\n",
            "Epoch 67/1500\n",
            "84/84 [==============================] - 0s 5ms/step - loss: 4609712.0000 - rmse: 502.8054 - r2: 0.0017 - val_loss: 2165749.0000 - val_rmse: 412.5008 - val_r2: 0.7587\n",
            "Epoch 68/1500\n",
            "84/84 [==============================] - 0s 4ms/step - loss: 4629307.0000 - rmse: 492.2617 - r2: 0.5635 - val_loss: 2113543.5000 - val_rmse: 408.6389 - val_r2: 0.7228\n",
            "Epoch 69/1500\n",
            "84/84 [==============================] - 0s 4ms/step - loss: 4311892.0000 - rmse: 495.5829 - r2: 0.5875 - val_loss: 2114838.5000 - val_rmse: 408.3311 - val_r2: 0.7487\n",
            "Epoch 70/1500\n",
            "84/84 [==============================] - 0s 5ms/step - loss: 4585672.5000 - rmse: 509.4026 - r2: 0.6308 - val_loss: 2256671.2500 - val_rmse: 425.6323 - val_r2: 0.6558\n",
            "Epoch 71/1500\n",
            "84/84 [==============================] - 0s 4ms/step - loss: 4464100.0000 - rmse: 499.9929 - r2: 0.6411 - val_loss: 2242793.7500 - val_rmse: 416.6653 - val_r2: 0.7771\n",
            "Epoch 72/1500\n",
            "84/84 [==============================] - 0s 5ms/step - loss: 4472765.5000 - rmse: 491.8067 - r2: 0.7299 - val_loss: 3023939.0000 - val_rmse: 520.2024 - val_r2: 0.4462\n",
            "Epoch 73/1500\n",
            "84/84 [==============================] - 0s 5ms/step - loss: 4486122.0000 - rmse: 490.2325 - r2: 0.5545 - val_loss: 3091271.7500 - val_rmse: 533.3618 - val_r2: 0.4290\n",
            "Epoch 74/1500\n",
            "84/84 [==============================] - 1s 7ms/step - loss: 4453543.0000 - rmse: 508.9789 - r2: 0.5696 - val_loss: 2059693.5000 - val_rmse: 402.0591 - val_r2: 0.7372\n",
            "Epoch 75/1500\n",
            "84/84 [==============================] - 1s 7ms/step - loss: 4435847.5000 - rmse: 505.5442 - r2: 0.5056 - val_loss: 2064354.7500 - val_rmse: 404.2627 - val_r2: 0.7281\n",
            "Epoch 76/1500\n",
            "84/84 [==============================] - 1s 7ms/step - loss: 4319927.5000 - rmse: 503.4506 - r2: 0.5919 - val_loss: 2495375.0000 - val_rmse: 450.3660 - val_r2: 0.5834\n",
            "Epoch 77/1500\n",
            "84/84 [==============================] - 1s 7ms/step - loss: 4418942.0000 - rmse: 500.5742 - r2: 0.5429 - val_loss: 4116475.2500 - val_rmse: 669.2101 - val_r2: 0.1841\n",
            "Epoch 78/1500\n",
            "84/84 [==============================] - 0s 5ms/step - loss: 4434063.0000 - rmse: 483.8151 - r2: 0.4940 - val_loss: 2466183.0000 - val_rmse: 453.9366 - val_r2: 0.5887\n",
            "Epoch 79/1500\n",
            "84/84 [==============================] - 0s 4ms/step - loss: 4469408.5000 - rmse: 523.2855 - r2: 0.5913 - val_loss: 2123775.7500 - val_rmse: 409.8236 - val_r2: 0.7026\n",
            "Epoch 80/1500\n",
            "84/84 [==============================] - 0s 5ms/step - loss: 4022895.5000 - rmse: 463.0746 - r2: 0.6949 - val_loss: 4392191.5000 - val_rmse: 656.6729 - val_r2: 0.1434\n",
            "Epoch 81/1500\n",
            "84/84 [==============================] - 0s 4ms/step - loss: 4245881.0000 - rmse: 513.1803 - r2: 0.6237 - val_loss: 2028908.2500 - val_rmse: 396.6870 - val_r2: 0.7521\n",
            "Epoch 82/1500\n",
            "84/84 [==============================] - 0s 5ms/step - loss: 4234420.0000 - rmse: 482.3656 - r2: 0.6928 - val_loss: 2038678.6250 - val_rmse: 395.4804 - val_r2: 0.7841\n",
            "Epoch 83/1500\n",
            "84/84 [==============================] - 0s 5ms/step - loss: 4324853.5000 - rmse: 502.8556 - r2: 0.6409 - val_loss: 2032890.3750 - val_rmse: 395.7038 - val_r2: 0.7834\n",
            "Epoch 84/1500\n",
            "84/84 [==============================] - 0s 4ms/step - loss: 4582131.0000 - rmse: 502.5136 - r2: 0.6650 - val_loss: 2124070.7500 - val_rmse: 413.4646 - val_r2: 0.6859\n",
            "Epoch 85/1500\n",
            "84/84 [==============================] - 0s 5ms/step - loss: 4231562.5000 - rmse: 487.3622 - r2: 0.6065 - val_loss: 2000570.1250 - val_rmse: 396.6807 - val_r2: 0.7442\n",
            "Epoch 86/1500\n",
            "84/84 [==============================] - 0s 4ms/step - loss: 4274396.5000 - rmse: 479.8280 - r2: 0.6695 - val_loss: 3214013.0000 - val_rmse: 546.7294 - val_r2: 0.4061\n",
            "Epoch 87/1500\n",
            "84/84 [==============================] - 0s 5ms/step - loss: 4276519.5000 - rmse: 480.6645 - r2: 0.2982 - val_loss: 1986761.3750 - val_rmse: 395.5814 - val_r2: 0.7372\n",
            "Epoch 88/1500\n",
            "84/84 [==============================] - 0s 4ms/step - loss: 4198465.5000 - rmse: 471.8174 - r2: 0.6741 - val_loss: 2105815.5000 - val_rmse: 406.3103 - val_r2: 0.6905\n",
            "Epoch 89/1500\n",
            "84/84 [==============================] - 0s 5ms/step - loss: 4435003.5000 - rmse: 512.2995 - r2: 0.5932 - val_loss: 1985199.5000 - val_rmse: 395.8803 - val_r2: 0.7682\n",
            "Epoch 90/1500\n",
            "84/84 [==============================] - 0s 5ms/step - loss: 4252387.5000 - rmse: 497.0395 - r2: 0.5730 - val_loss: 1927177.8750 - val_rmse: 391.0373 - val_r2: 0.7612\n",
            "Epoch 91/1500\n",
            "84/84 [==============================] - 0s 5ms/step - loss: 4156652.2500 - rmse: 484.7542 - r2: 0.6418 - val_loss: 1965367.0000 - val_rmse: 392.4373 - val_r2: 0.7488\n",
            "Epoch 92/1500\n",
            "84/84 [==============================] - 0s 5ms/step - loss: 4151495.2500 - rmse: 491.6590 - r2: 0.6819 - val_loss: 1996980.8750 - val_rmse: 398.6617 - val_r2: 0.7270\n",
            "Epoch 93/1500\n",
            "84/84 [==============================] - 0s 4ms/step - loss: 4263940.0000 - rmse: 465.5652 - r2: 0.3757 - val_loss: 2203592.7500 - val_rmse: 417.8723 - val_r2: 0.6585\n",
            "Epoch 94/1500\n",
            "84/84 [==============================] - 0s 5ms/step - loss: 4061206.5000 - rmse: 465.9228 - r2: 0.6984 - val_loss: 3687497.5000 - val_rmse: 593.0259 - val_r2: 0.3078\n",
            "Epoch 95/1500\n",
            "84/84 [==============================] - 0s 5ms/step - loss: 4298688.0000 - rmse: 494.2995 - r2: 0.4944 - val_loss: 1977118.7500 - val_rmse: 393.5185 - val_r2: 0.7377\n",
            "Epoch 96/1500\n",
            "84/84 [==============================] - 0s 5ms/step - loss: 4093123.0000 - rmse: 451.5028 - r2: 0.7299 - val_loss: 2389607.0000 - val_rmse: 437.5432 - val_r2: 0.6082\n",
            "Epoch 97/1500\n",
            "84/84 [==============================] - 0s 5ms/step - loss: 4279316.0000 - rmse: 471.2249 - r2: 0.7313 - val_loss: 2237318.5000 - val_rmse: 422.0565 - val_r2: 0.6465\n",
            "Epoch 98/1500\n",
            "84/84 [==============================] - 0s 5ms/step - loss: 4317022.0000 - rmse: 473.9004 - r2: 0.5071 - val_loss: 5281990.5000 - val_rmse: 779.1218 - val_r2: -0.0406\n",
            "Epoch 99/1500\n",
            "84/84 [==============================] - 0s 5ms/step - loss: 4384296.5000 - rmse: 503.2479 - r2: 0.6743 - val_loss: 1868142.1250 - val_rmse: 380.5776 - val_r2: 0.7922\n",
            "Epoch 100/1500\n",
            "84/84 [==============================] - 0s 4ms/step - loss: 4317831.5000 - rmse: 488.2297 - r2: 0.6409 - val_loss: 1904344.1250 - val_rmse: 386.3445 - val_r2: 0.7531\n",
            "Epoch 101/1500\n",
            "84/84 [==============================] - 0s 5ms/step - loss: 4037761.5000 - rmse: 461.1899 - r2: 0.6272 - val_loss: 2007711.1250 - val_rmse: 397.1758 - val_r2: 0.7113\n",
            "Epoch 102/1500\n",
            "84/84 [==============================] - 1s 7ms/step - loss: 4117258.5000 - rmse: 468.8951 - r2: 0.6032 - val_loss: 1883932.2500 - val_rmse: 384.1465 - val_r2: 0.7678\n",
            "Epoch 103/1500\n",
            "84/84 [==============================] - 1s 10ms/step - loss: 4254664.0000 - rmse: 463.3410 - r2: 0.7225 - val_loss: 2627539.2500 - val_rmse: 468.7316 - val_r2: 0.5485\n",
            "Epoch 104/1500\n",
            "84/84 [==============================] - 1s 10ms/step - loss: 4166329.2500 - rmse: 495.8076 - r2: 0.6834 - val_loss: 1984158.6250 - val_rmse: 389.9438 - val_r2: 0.8060\n",
            "Epoch 105/1500\n",
            "84/84 [==============================] - 1s 9ms/step - loss: 4165518.5000 - rmse: 466.5439 - r2: 0.7301 - val_loss: 1864720.2500 - val_rmse: 379.8994 - val_r2: 0.7869\n",
            "Epoch 106/1500\n",
            "84/84 [==============================] - 1s 10ms/step - loss: 4368937.5000 - rmse: 497.7035 - r2: 0.6518 - val_loss: 1843126.6250 - val_rmse: 375.9946 - val_r2: 0.7843\n",
            "Epoch 107/1500\n",
            "84/84 [==============================] - 1s 7ms/step - loss: 4160985.5000 - rmse: 463.8052 - r2: 0.7373 - val_loss: 2658187.2500 - val_rmse: 472.4701 - val_r2: 0.5420\n",
            "Epoch 108/1500\n",
            "84/84 [==============================] - 0s 4ms/step - loss: 3865904.0000 - rmse: 456.3007 - r2: 0.6949 - val_loss: 1811204.8750 - val_rmse: 376.0177 - val_r2: 0.7821\n",
            "Epoch 109/1500\n",
            "84/84 [==============================] - 0s 5ms/step - loss: 4055976.5000 - rmse: 469.4321 - r2: 0.7066 - val_loss: 1829111.8750 - val_rmse: 376.8401 - val_r2: 0.7687\n",
            "Epoch 110/1500\n",
            "84/84 [==============================] - 0s 5ms/step - loss: 4338669.5000 - rmse: 478.2327 - r2: 0.7170 - val_loss: 1830781.5000 - val_rmse: 377.0797 - val_r2: 0.7617\n",
            "Epoch 111/1500\n",
            "84/84 [==============================] - 0s 5ms/step - loss: 4161123.0000 - rmse: 463.0081 - r2: 0.5914 - val_loss: 1804058.1250 - val_rmse: 373.3855 - val_r2: 0.7957\n",
            "Epoch 112/1500\n",
            "84/84 [==============================] - 0s 5ms/step - loss: 4177474.7500 - rmse: 472.0284 - r2: 0.6970 - val_loss: 1978562.3750 - val_rmse: 389.1153 - val_r2: 0.7112\n",
            "Epoch 113/1500\n",
            "84/84 [==============================] - 0s 5ms/step - loss: 4117554.5000 - rmse: 447.4871 - r2: 0.7366 - val_loss: 1796146.1250 - val_rmse: 374.0865 - val_r2: 0.7723\n",
            "Epoch 114/1500\n",
            "84/84 [==============================] - 0s 5ms/step - loss: 4017261.5000 - rmse: 453.3142 - r2: 0.6619 - val_loss: 1810424.0000 - val_rmse: 374.6201 - val_r2: 0.7604\n",
            "Epoch 115/1500\n",
            "84/84 [==============================] - 0s 5ms/step - loss: 4186752.2500 - rmse: 482.4392 - r2: 0.5700 - val_loss: 1911880.3750 - val_rmse: 383.3409 - val_r2: 0.7332\n",
            "Epoch 116/1500\n",
            "84/84 [==============================] - 0s 5ms/step - loss: 3965969.2500 - rmse: 473.2802 - r2: 0.6273 - val_loss: 1870211.8750 - val_rmse: 382.4172 - val_r2: 0.8101\n",
            "Epoch 117/1500\n",
            "84/84 [==============================] - 0s 5ms/step - loss: 4326853.5000 - rmse: 469.8863 - r2: 0.7000 - val_loss: 1912763.8750 - val_rmse: 387.7997 - val_r2: 0.7264\n",
            "Epoch 118/1500\n",
            "84/84 [==============================] - 0s 5ms/step - loss: 4367981.5000 - rmse: 496.7134 - r2: 0.6804 - val_loss: 1768352.0000 - val_rmse: 366.7923 - val_r2: 0.8204\n",
            "Epoch 119/1500\n",
            "84/84 [==============================] - 0s 6ms/step - loss: 4517892.5000 - rmse: 492.6221 - r2: 0.6619 - val_loss: 1768874.0000 - val_rmse: 369.2119 - val_r2: 0.8032\n",
            "Epoch 120/1500\n",
            "84/84 [==============================] - 0s 5ms/step - loss: 4317420.5000 - rmse: 485.4642 - r2: 0.5266 - val_loss: 1923407.6250 - val_rmse: 379.5404 - val_r2: 0.8279\n",
            "Epoch 121/1500\n",
            "84/84 [==============================] - 0s 6ms/step - loss: 4329173.0000 - rmse: 477.0589 - r2: 0.5315 - val_loss: 2134119.5000 - val_rmse: 412.2379 - val_r2: 0.6628\n",
            "Epoch 122/1500\n",
            "84/84 [==============================] - 0s 5ms/step - loss: 4026497.5000 - rmse: 451.9069 - r2: 0.5504 - val_loss: 1890457.5000 - val_rmse: 382.7618 - val_r2: 0.7275\n",
            "Epoch 123/1500\n",
            "84/84 [==============================] - 0s 5ms/step - loss: 4119999.0000 - rmse: 478.1802 - r2: 0.6668 - val_loss: 1699572.6250 - val_rmse: 365.0876 - val_r2: 0.7931\n",
            "Epoch 124/1500\n",
            "84/84 [==============================] - 0s 4ms/step - loss: 3867561.7500 - rmse: 464.5623 - r2: 0.2107 - val_loss: 1997131.3750 - val_rmse: 407.7368 - val_r2: 0.6954\n",
            "Epoch 125/1500\n",
            "84/84 [==============================] - 0s 5ms/step - loss: 4056749.2500 - rmse: 450.1864 - r2: 0.7295 - val_loss: 1693244.2500 - val_rmse: 363.9667 - val_r2: 0.8032\n",
            "Epoch 126/1500\n",
            "84/84 [==============================] - 0s 5ms/step - loss: 4003445.5000 - rmse: 463.2021 - r2: 0.7043 - val_loss: 1730797.0000 - val_rmse: 367.3898 - val_r2: 0.8116\n",
            "Epoch 127/1500\n",
            "84/84 [==============================] - 0s 4ms/step - loss: 3936891.0000 - rmse: 449.6145 - r2: 0.6716 - val_loss: 2900143.7500 - val_rmse: 491.9082 - val_r2: 0.4892\n",
            "Epoch 128/1500\n",
            "84/84 [==============================] - 0s 5ms/step - loss: 4298781.0000 - rmse: 467.9987 - r2: 0.7002 - val_loss: 1693290.5000 - val_rmse: 361.3177 - val_r2: 0.8142\n",
            "Epoch 129/1500\n",
            "84/84 [==============================] - 0s 4ms/step - loss: 3827985.0000 - rmse: 450.5134 - r2: 0.6988 - val_loss: 3324353.7500 - val_rmse: 554.8635 - val_r2: 0.3962\n",
            "Epoch 130/1500\n",
            "84/84 [==============================] - 0s 5ms/step - loss: 3781424.7500 - rmse: 475.4037 - r2: 0.6984 - val_loss: 2579845.0000 - val_rmse: 453.3867 - val_r2: 0.5589\n",
            "Epoch 131/1500\n",
            "84/84 [==============================] - 1s 7ms/step - loss: 4266042.0000 - rmse: 459.3268 - r2: 0.5405 - val_loss: 1865384.8750 - val_rmse: 375.3426 - val_r2: 0.7315\n",
            "Epoch 132/1500\n",
            "84/84 [==============================] - 1s 6ms/step - loss: 4482430.5000 - rmse: 464.6311 - r2: 0.7072 - val_loss: 1692741.0000 - val_rmse: 359.9653 - val_r2: 0.8202\n",
            "Epoch 133/1500\n",
            "84/84 [==============================] - 1s 7ms/step - loss: 4090032.5000 - rmse: 469.1053 - r2: 0.6417 - val_loss: 1864155.0000 - val_rmse: 378.6566 - val_r2: 0.7272\n",
            "Epoch 134/1500\n",
            "84/84 [==============================] - 1s 7ms/step - loss: 3937942.0000 - rmse: 449.4188 - r2: 0.7281 - val_loss: 1664724.8750 - val_rmse: 360.3778 - val_r2: 0.8032\n",
            "Epoch 135/1500\n",
            "84/84 [==============================] - 0s 6ms/step - loss: 3967308.2500 - rmse: 444.9058 - r2: 0.5404 - val_loss: 1794610.8750 - val_rmse: 372.9355 - val_r2: 0.7429\n",
            "Epoch 136/1500\n",
            "84/84 [==============================] - 0s 5ms/step - loss: 4063683.0000 - rmse: 467.8002 - r2: 0.6596 - val_loss: 1837423.8750 - val_rmse: 373.6232 - val_r2: 0.7329\n",
            "Epoch 137/1500\n",
            "84/84 [==============================] - 0s 5ms/step - loss: 3922218.5000 - rmse: 436.2061 - r2: 0.7719 - val_loss: 3037735.5000 - val_rmse: 520.3765 - val_r2: 0.4591\n",
            "Epoch 138/1500\n",
            "84/84 [==============================] - 0s 5ms/step - loss: 3969485.2500 - rmse: 461.9757 - r2: 0.6665 - val_loss: 1646305.6250 - val_rmse: 358.8587 - val_r2: 0.8080\n",
            "Epoch 139/1500\n",
            "84/84 [==============================] - 0s 5ms/step - loss: 4204836.5000 - rmse: 496.7162 - r2: 0.6875 - val_loss: 2293679.5000 - val_rmse: 450.2017 - val_r2: 0.6165\n",
            "Epoch 140/1500\n",
            "84/84 [==============================] - 0s 5ms/step - loss: 3854386.5000 - rmse: 439.4553 - r2: 0.6802 - val_loss: 1954122.7500 - val_rmse: 390.3402 - val_r2: 0.7011\n",
            "Epoch 141/1500\n",
            "84/84 [==============================] - 0s 5ms/step - loss: 3776606.0000 - rmse: 444.0688 - r2: 0.7530 - val_loss: 1668715.1250 - val_rmse: 357.3030 - val_r2: 0.7838\n",
            "Epoch 142/1500\n",
            "84/84 [==============================] - 0s 5ms/step - loss: 3986752.7500 - rmse: 457.3136 - r2: 0.6949 - val_loss: 2058884.8750 - val_rmse: 406.3317 - val_r2: 0.6747\n",
            "Epoch 143/1500\n",
            "84/84 [==============================] - 0s 5ms/step - loss: 4010835.5000 - rmse: 479.1447 - r2: 0.6203 - val_loss: 1951215.3750 - val_rmse: 406.8401 - val_r2: 0.7016\n",
            "Epoch 144/1500\n",
            "84/84 [==============================] - 0s 5ms/step - loss: 3761382.2500 - rmse: 444.3632 - r2: 0.7255 - val_loss: 2348476.2500 - val_rmse: 429.9878 - val_r2: 0.6116\n",
            "Epoch 145/1500\n",
            "84/84 [==============================] - 0s 4ms/step - loss: 3899159.7500 - rmse: 447.1654 - r2: 0.7777 - val_loss: 1600040.8750 - val_rmse: 350.3908 - val_r2: 0.8221\n",
            "Epoch 146/1500\n",
            "84/84 [==============================] - 0s 5ms/step - loss: 3857846.7500 - rmse: 469.5306 - r2: 0.7177 - val_loss: 1881459.0000 - val_rmse: 379.6293 - val_r2: 0.7203\n",
            "Epoch 147/1500\n",
            "84/84 [==============================] - 0s 6ms/step - loss: 3991861.0000 - rmse: 449.3027 - r2: 0.7129 - val_loss: 1610063.2500 - val_rmse: 352.7023 - val_r2: 0.8232\n",
            "Epoch 148/1500\n",
            "84/84 [==============================] - 0s 5ms/step - loss: 3943031.5000 - rmse: 439.5138 - r2: 0.7757 - val_loss: 1585080.0000 - val_rmse: 348.2019 - val_r2: 0.8332\n",
            "Epoch 149/1500\n",
            "84/84 [==============================] - 0s 4ms/step - loss: 3922791.2500 - rmse: 451.5064 - r2: 0.7469 - val_loss: 2290285.5000 - val_rmse: 429.6035 - val_r2: 0.6221\n",
            "Epoch 150/1500\n",
            "84/84 [==============================] - 0s 5ms/step - loss: 3836542.5000 - rmse: 438.0354 - r2: 0.7261 - val_loss: 1622433.7500 - val_rmse: 358.5565 - val_r2: 0.8325\n",
            "Epoch 151/1500\n",
            "84/84 [==============================] - 0s 5ms/step - loss: 3782888.5000 - rmse: 432.1192 - r2: 0.7036 - val_loss: 1656056.5000 - val_rmse: 354.6512 - val_r2: 0.7735\n",
            "Epoch 152/1500\n",
            "84/84 [==============================] - 0s 5ms/step - loss: 3589369.0000 - rmse: 434.7644 - r2: 0.7286 - val_loss: 1545201.7500 - val_rmse: 346.9586 - val_r2: 0.8224\n",
            "Epoch 153/1500\n",
            "84/84 [==============================] - 0s 5ms/step - loss: 3698202.0000 - rmse: 441.2088 - r2: 0.6950 - val_loss: 2026504.7500 - val_rmse: 396.7606 - val_r2: 0.6818\n",
            "Epoch 154/1500\n",
            "84/84 [==============================] - 0s 4ms/step - loss: 3707605.0000 - rmse: 441.0943 - r2: 0.7073 - val_loss: 1857997.8750 - val_rmse: 379.5748 - val_r2: 0.7182\n",
            "Epoch 155/1500\n",
            "84/84 [==============================] - 0s 5ms/step - loss: 4117854.5000 - rmse: 473.5262 - r2: 0.6554 - val_loss: 1695383.0000 - val_rmse: 377.9061 - val_r2: 0.7487\n",
            "Epoch 156/1500\n",
            "84/84 [==============================] - 0s 5ms/step - loss: 3802424.2500 - rmse: 440.6472 - r2: 0.7407 - val_loss: 1590769.0000 - val_rmse: 349.3582 - val_r2: 0.7867\n",
            "Epoch 157/1500\n",
            "84/84 [==============================] - 0s 5ms/step - loss: 3691791.7500 - rmse: 426.8336 - r2: 0.7602 - val_loss: 1482161.6250 - val_rmse: 340.4048 - val_r2: 0.8367\n",
            "Epoch 158/1500\n",
            "84/84 [==============================] - 0s 5ms/step - loss: 3870687.5000 - rmse: 476.0780 - r2: 0.7066 - val_loss: 1502672.1250 - val_rmse: 337.9598 - val_r2: 0.8497\n",
            "Epoch 159/1500\n",
            "84/84 [==============================] - 1s 7ms/step - loss: 3968802.5000 - rmse: 453.8851 - r2: 0.6700 - val_loss: 1556755.6250 - val_rmse: 347.0899 - val_r2: 0.8466\n",
            "Epoch 160/1500\n",
            "84/84 [==============================] - 1s 7ms/step - loss: 4073578.5000 - rmse: 451.5017 - r2: 0.6889 - val_loss: 1518070.7500 - val_rmse: 341.9815 - val_r2: 0.8204\n",
            "Epoch 161/1500\n",
            "84/84 [==============================] - 1s 7ms/step - loss: 3517307.2500 - rmse: 432.5152 - r2: 0.7794 - val_loss: 2100620.7500 - val_rmse: 429.5276 - val_r2: 0.6562\n",
            "Epoch 162/1500\n",
            "84/84 [==============================] - 1s 7ms/step - loss: 3565521.0000 - rmse: 443.6585 - r2: 0.7717 - val_loss: 1531213.5000 - val_rmse: 343.7870 - val_r2: 0.8440\n",
            "Epoch 163/1500\n",
            "84/84 [==============================] - 0s 6ms/step - loss: 3576755.2500 - rmse: 414.6424 - r2: 0.7314 - val_loss: 1740655.3750 - val_rmse: 366.2128 - val_r2: 0.7429\n",
            "Epoch 164/1500\n",
            "84/84 [==============================] - 0s 4ms/step - loss: 3592725.0000 - rmse: 417.7228 - r2: 0.7515 - val_loss: 1654145.1250 - val_rmse: 355.9916 - val_r2: 0.7627\n",
            "Epoch 165/1500\n",
            "84/84 [==============================] - 0s 5ms/step - loss: 3633923.7500 - rmse: 432.9664 - r2: 0.7696 - val_loss: 1430638.6250 - val_rmse: 333.3252 - val_r2: 0.8464\n",
            "Epoch 166/1500\n",
            "84/84 [==============================] - 0s 5ms/step - loss: 3627136.2500 - rmse: 436.5442 - r2: 0.6859 - val_loss: 1427690.5000 - val_rmse: 336.7642 - val_r2: 0.8343\n",
            "Epoch 167/1500\n",
            "84/84 [==============================] - 0s 4ms/step - loss: 3720124.7500 - rmse: 432.0809 - r2: 0.7519 - val_loss: 1807252.5000 - val_rmse: 373.4322 - val_r2: 0.8409\n",
            "Epoch 168/1500\n",
            "84/84 [==============================] - 0s 5ms/step - loss: 4025752.2500 - rmse: 451.6662 - r2: 0.5624 - val_loss: 1487572.0000 - val_rmse: 341.5300 - val_r2: 0.8043\n",
            "Epoch 169/1500\n",
            "84/84 [==============================] - 0s 4ms/step - loss: 3612776.2500 - rmse: 422.4610 - r2: 0.7165 - val_loss: 1673476.2500 - val_rmse: 359.8539 - val_r2: 0.7535\n",
            "Epoch 170/1500\n",
            "84/84 [==============================] - 0s 5ms/step - loss: 3604481.5000 - rmse: 413.9814 - r2: 0.7417 - val_loss: 1413564.2500 - val_rmse: 333.5950 - val_r2: 0.8485\n",
            "Epoch 171/1500\n",
            "84/84 [==============================] - 0s 6ms/step - loss: 3734320.7500 - rmse: 448.0833 - r2: 0.5361 - val_loss: 1392176.0000 - val_rmse: 329.3136 - val_r2: 0.8581\n",
            "Epoch 172/1500\n",
            "84/84 [==============================] - 0s 5ms/step - loss: 3648721.2500 - rmse: 427.3245 - r2: 0.7372 - val_loss: 1389049.5000 - val_rmse: 329.3167 - val_r2: 0.8295\n",
            "Epoch 173/1500\n",
            "84/84 [==============================] - 0s 5ms/step - loss: 3733713.5000 - rmse: 417.9309 - r2: 0.7314 - val_loss: 1358901.2500 - val_rmse: 328.4612 - val_r2: 0.8423\n",
            "Epoch 174/1500\n",
            "84/84 [==============================] - 0s 5ms/step - loss: 3656877.0000 - rmse: 421.8747 - r2: 0.7072 - val_loss: 1424424.5000 - val_rmse: 336.5570 - val_r2: 0.8102\n",
            "Epoch 175/1500\n",
            "84/84 [==============================] - 0s 5ms/step - loss: 3732842.7500 - rmse: 418.9312 - r2: 0.7442 - val_loss: 1346311.5000 - val_rmse: 326.8596 - val_r2: 0.8399\n",
            "Epoch 176/1500\n",
            "84/84 [==============================] - 0s 5ms/step - loss: 3800662.2500 - rmse: 443.4472 - r2: 0.6921 - val_loss: 1861901.3750 - val_rmse: 383.0367 - val_r2: 0.7072\n",
            "Epoch 177/1500\n",
            "84/84 [==============================] - 0s 5ms/step - loss: 3918706.7500 - rmse: 453.0518 - r2: 0.6651 - val_loss: 2044370.6250 - val_rmse: 410.7076 - val_r2: 0.6682\n",
            "Epoch 178/1500\n",
            "84/84 [==============================] - 0s 5ms/step - loss: 4099557.2500 - rmse: 455.4752 - r2: 0.6366 - val_loss: 1357018.6250 - val_rmse: 323.4095 - val_r2: 0.8646\n",
            "Epoch 179/1500\n",
            "84/84 [==============================] - 0s 5ms/step - loss: 3724524.2500 - rmse: 431.7063 - r2: 0.7171 - val_loss: 1444686.0000 - val_rmse: 335.6844 - val_r2: 0.8021\n",
            "Epoch 180/1500\n",
            "84/84 [==============================] - 0s 5ms/step - loss: 3383965.7500 - rmse: 408.6739 - r2: 0.7322 - val_loss: 1919743.0000 - val_rmse: 392.4954 - val_r2: 0.6932\n",
            "Epoch 181/1500\n",
            "84/84 [==============================] - 0s 5ms/step - loss: 4057516.0000 - rmse: 454.5426 - r2: 0.6765 - val_loss: 1856581.3750 - val_rmse: 383.8918 - val_r2: 0.7065\n",
            "Epoch 182/1500\n",
            "84/84 [==============================] - 0s 4ms/step - loss: 3715796.2500 - rmse: 445.3310 - r2: 0.7025 - val_loss: 2056480.7500 - val_rmse: 405.0202 - val_r2: 0.6687\n",
            "Epoch 183/1500\n",
            "84/84 [==============================] - 0s 5ms/step - loss: 3609282.7500 - rmse: 426.4182 - r2: 0.7208 - val_loss: 2223473.7500 - val_rmse: 412.8695 - val_r2: 0.8108\n",
            "Epoch 184/1500\n",
            "84/84 [==============================] - 0s 4ms/step - loss: 3859343.2500 - rmse: 426.3612 - r2: 0.8058 - val_loss: 1336607.5000 - val_rmse: 322.2290 - val_r2: 0.8573\n",
            "Epoch 185/1500\n",
            "84/84 [==============================] - 0s 5ms/step - loss: 3454325.5000 - rmse: 413.7371 - r2: 0.7191 - val_loss: 1684756.7500 - val_rmse: 360.8517 - val_r2: 0.7456\n",
            "Epoch 186/1500\n",
            "84/84 [==============================] - 0s 4ms/step - loss: 3588797.7500 - rmse: 432.2234 - r2: 0.6243 - val_loss: 1386772.6250 - val_rmse: 326.1312 - val_r2: 0.8657\n",
            "Epoch 187/1500\n",
            "84/84 [==============================] - 1s 6ms/step - loss: 3277276.5000 - rmse: 416.7029 - r2: 0.7428 - val_loss: 1441548.0000 - val_rmse: 333.3958 - val_r2: 0.8659\n",
            "Epoch 188/1500\n",
            "84/84 [==============================] - 1s 6ms/step - loss: 3578534.7500 - rmse: 431.3840 - r2: 0.6688 - val_loss: 1320793.5000 - val_rmse: 324.9789 - val_r2: 0.8371\n",
            "Epoch 189/1500\n",
            "84/84 [==============================] - 1s 6ms/step - loss: 3946456.0000 - rmse: 463.7307 - r2: 0.6968 - val_loss: 1398835.3750 - val_rmse: 337.4838 - val_r2: 0.8549\n",
            "Epoch 190/1500\n",
            "84/84 [==============================] - 0s 6ms/step - loss: 4164792.0000 - rmse: 491.1296 - r2: 0.7226 - val_loss: 1361574.5000 - val_rmse: 326.6104 - val_r2: 0.8310\n",
            "Epoch 191/1500\n",
            "84/84 [==============================] - 1s 6ms/step - loss: 3960971.7500 - rmse: 428.1600 - r2: 0.7872 - val_loss: 1634902.7500 - val_rmse: 360.3359 - val_r2: 0.7567\n",
            "Epoch 192/1500\n",
            "84/84 [==============================] - 0s 6ms/step - loss: 3404769.5000 - rmse: 407.7516 - r2: 0.7532 - val_loss: 2353666.7500 - val_rmse: 438.0008 - val_r2: 0.6047\n",
            "Epoch 193/1500\n",
            "84/84 [==============================] - 0s 5ms/step - loss: 3758611.5000 - rmse: 436.6723 - r2: 0.4363 - val_loss: 1385669.3750 - val_rmse: 331.8864 - val_r2: 0.8572\n",
            "Epoch 194/1500\n",
            "84/84 [==============================] - 0s 5ms/step - loss: 3509767.7500 - rmse: 422.8126 - r2: 0.7854 - val_loss: 1289175.3750 - val_rmse: 318.3962 - val_r2: 0.8564\n",
            "Epoch 195/1500\n",
            "84/84 [==============================] - 0s 5ms/step - loss: 3492326.0000 - rmse: 407.1934 - r2: 0.6690 - val_loss: 1344246.3750 - val_rmse: 322.5649 - val_r2: 0.8227\n",
            "Epoch 196/1500\n",
            "84/84 [==============================] - 0s 5ms/step - loss: 3378221.0000 - rmse: 405.1262 - r2: 0.7875 - val_loss: 1342521.0000 - val_rmse: 322.7374 - val_r2: 0.8198\n",
            "Epoch 197/1500\n",
            "84/84 [==============================] - 0s 4ms/step - loss: 3464125.5000 - rmse: 422.7161 - r2: 0.7721 - val_loss: 1248484.2500 - val_rmse: 313.1935 - val_r2: 0.8625\n",
            "Epoch 198/1500\n",
            "84/84 [==============================] - 0s 5ms/step - loss: 3669009.5000 - rmse: 435.7171 - r2: 0.6962 - val_loss: 1890129.5000 - val_rmse: 395.7964 - val_r2: 0.6938\n",
            "Epoch 199/1500\n",
            "84/84 [==============================] - 0s 5ms/step - loss: 3519011.5000 - rmse: 417.2285 - r2: 0.7612 - val_loss: 1380621.1250 - val_rmse: 326.6709 - val_r2: 0.8077\n",
            "Epoch 200/1500\n",
            "84/84 [==============================] - 0s 5ms/step - loss: 4250486.5000 - rmse: 463.2061 - r2: 0.6205 - val_loss: 3583319.5000 - val_rmse: 594.7624 - val_r2: 0.3630\n",
            "Epoch 201/1500\n",
            "84/84 [==============================] - 0s 5ms/step - loss: 3826210.2500 - rmse: 446.6572 - r2: 0.7003 - val_loss: 2063999.6250 - val_rmse: 401.0281 - val_r2: 0.6665\n",
            "Epoch 202/1500\n",
            "84/84 [==============================] - 0s 5ms/step - loss: 3794823.2500 - rmse: 432.4301 - r2: 0.6503 - val_loss: 1725554.8750 - val_rmse: 371.1636 - val_r2: 0.7322\n",
            "Epoch 203/1500\n",
            "84/84 [==============================] - 0s 5ms/step - loss: 3698506.7500 - rmse: 421.8525 - r2: 0.7773 - val_loss: 2586682.0000 - val_rmse: 475.8783 - val_r2: 0.5597\n",
            "Epoch 204/1500\n",
            "84/84 [==============================] - 0s 5ms/step - loss: 3216615.7500 - rmse: 399.1633 - r2: 0.8050 - val_loss: 1246059.5000 - val_rmse: 313.1953 - val_r2: 0.8613\n",
            "Epoch 205/1500\n",
            "84/84 [==============================] - 0s 5ms/step - loss: 3222062.5000 - rmse: 398.2053 - r2: 0.7562 - val_loss: 2042794.3750 - val_rmse: 400.3145 - val_r2: 0.6702\n",
            "Epoch 206/1500\n",
            "84/84 [==============================] - 0s 5ms/step - loss: 3299654.0000 - rmse: 401.1401 - r2: 0.7747 - val_loss: 1294428.6250 - val_rmse: 316.5309 - val_r2: 0.8291\n",
            "Epoch 207/1500\n",
            "84/84 [==============================] - 0s 5ms/step - loss: 3159874.7500 - rmse: 398.7925 - r2: 0.8020 - val_loss: 1301126.0000 - val_rmse: 325.8677 - val_r2: 0.8681\n",
            "Epoch 208/1500\n",
            "84/84 [==============================] - 0s 5ms/step - loss: 3388671.7500 - rmse: 400.5955 - r2: 0.8024 - val_loss: 1324271.8750 - val_rmse: 327.3522 - val_r2: 0.8125\n",
            "Epoch 209/1500\n",
            "84/84 [==============================] - 0s 5ms/step - loss: 3151258.7500 - rmse: 416.0946 - r2: 0.7117 - val_loss: 1234765.7500 - val_rmse: 311.8072 - val_r2: 0.8371\n",
            "Epoch 210/1500\n",
            "84/84 [==============================] - 0s 5ms/step - loss: 3215281.7500 - rmse: 411.6057 - r2: 0.7825 - val_loss: 1477935.8750 - val_rmse: 340.6992 - val_r2: 0.7802\n",
            "Epoch 211/1500\n",
            "84/84 [==============================] - 0s 5ms/step - loss: 3323400.5000 - rmse: 409.1637 - r2: 0.7381 - val_loss: 1392946.2500 - val_rmse: 335.1902 - val_r2: 0.7992\n",
            "Epoch 212/1500\n",
            "84/84 [==============================] - 0s 5ms/step - loss: 3122597.2500 - rmse: 404.5134 - r2: 0.7882 - val_loss: 1251146.1250 - val_rmse: 317.4722 - val_r2: 0.8278\n",
            "Epoch 213/1500\n",
            "84/84 [==============================] - 0s 5ms/step - loss: 3342073.7500 - rmse: 394.9257 - r2: 0.7814 - val_loss: 1139949.2500 - val_rmse: 305.6173 - val_r2: 0.8648\n",
            "Epoch 214/1500\n",
            "84/84 [==============================] - 0s 5ms/step - loss: 3302384.2500 - rmse: 409.2300 - r2: 0.6061 - val_loss: 1267093.6250 - val_rmse: 316.8255 - val_r2: 0.8809\n",
            "Epoch 215/1500\n",
            "84/84 [==============================] - 0s 5ms/step - loss: 3595756.5000 - rmse: 406.7295 - r2: 0.7545 - val_loss: 2608510.7500 - val_rmse: 469.7616 - val_r2: 0.5649\n",
            "Epoch 216/1500\n",
            "84/84 [==============================] - 1s 7ms/step - loss: 3257536.5000 - rmse: 407.4956 - r2: 0.6419 - val_loss: 1156959.1250 - val_rmse: 304.7097 - val_r2: 0.8454\n",
            "Epoch 217/1500\n",
            "84/84 [==============================] - 1s 7ms/step - loss: 3116427.2500 - rmse: 398.3752 - r2: 0.7769 - val_loss: 1378430.5000 - val_rmse: 325.1622 - val_r2: 0.8788\n",
            "Epoch 218/1500\n",
            "84/84 [==============================] - 1s 7ms/step - loss: 3446528.5000 - rmse: 393.2117 - r2: 0.7488 - val_loss: 3279786.7500 - val_rmse: 550.8758 - val_r2: 0.4385\n",
            "Epoch 219/1500\n",
            "84/84 [==============================] - 1s 6ms/step - loss: 3183854.0000 - rmse: 405.8513 - r2: 0.7795 - val_loss: 1538630.2500 - val_rmse: 349.7487 - val_r2: 0.7629\n",
            "Epoch 220/1500\n",
            "84/84 [==============================] - 1s 7ms/step - loss: 3395539.2500 - rmse: 423.7673 - r2: 0.7533 - val_loss: 1710327.6250 - val_rmse: 368.9320 - val_r2: 0.7322\n",
            "Epoch 221/1500\n",
            "84/84 [==============================] - 0s 6ms/step - loss: 3626297.7500 - rmse: 403.8310 - r2: 0.7961 - val_loss: 1120210.1250 - val_rmse: 301.2764 - val_r2: 0.8597\n",
            "Epoch 222/1500\n",
            "84/84 [==============================] - 0s 5ms/step - loss: 3186765.2500 - rmse: 388.7731 - r2: 0.5409 - val_loss: 1196770.0000 - val_rmse: 309.9373 - val_r2: 0.8828\n",
            "Epoch 223/1500\n",
            "84/84 [==============================] - 0s 5ms/step - loss: 3570406.5000 - rmse: 410.3432 - r2: 0.8135 - val_loss: 2433698.7500 - val_rmse: 446.1399 - val_r2: 0.6025\n",
            "Epoch 224/1500\n",
            "84/84 [==============================] - 0s 5ms/step - loss: 3106592.0000 - rmse: 394.7095 - r2: 0.6577 - val_loss: 1250290.0000 - val_rmse: 321.7457 - val_r2: 0.8776\n",
            "Epoch 225/1500\n",
            "84/84 [==============================] - 0s 5ms/step - loss: 3182123.5000 - rmse: 381.0829 - r2: 0.8051 - val_loss: 1762363.0000 - val_rmse: 379.7376 - val_r2: 0.7198\n",
            "Epoch 226/1500\n",
            "84/84 [==============================] - 0s 5ms/step - loss: 3032504.7500 - rmse: 385.4121 - r2: 0.7736 - val_loss: 1298680.2500 - val_rmse: 325.1139 - val_r2: 0.8080\n",
            "Epoch 227/1500\n",
            "84/84 [==============================] - 0s 5ms/step - loss: 4443875.5000 - rmse: 489.7958 - r2: 0.6925 - val_loss: 1484620.6250 - val_rmse: 340.0671 - val_r2: 0.8744\n",
            "Epoch 228/1500\n",
            "84/84 [==============================] - 0s 5ms/step - loss: 3394581.5000 - rmse: 444.6652 - r2: 0.7246 - val_loss: 4141781.5000 - val_rmse: 646.8561 - val_r2: 0.2031\n",
            "Epoch 229/1500\n",
            "84/84 [==============================] - 0s 5ms/step - loss: 3604643.7500 - rmse: 438.9078 - r2: 0.7149 - val_loss: 1314652.1250 - val_rmse: 324.9308 - val_r2: 0.8131\n",
            "Epoch 230/1500\n",
            "84/84 [==============================] - 0s 5ms/step - loss: 3471979.2500 - rmse: 431.8308 - r2: 0.7210 - val_loss: 1320785.7500 - val_rmse: 323.6068 - val_r2: 0.8165\n",
            "Epoch 231/1500\n",
            "84/84 [==============================] - 0s 6ms/step - loss: 3328359.2500 - rmse: 412.2687 - r2: 0.6776 - val_loss: 1532496.7500 - val_rmse: 352.2635 - val_r2: 0.7576\n",
            "Epoch 232/1500\n",
            "84/84 [==============================] - 0s 6ms/step - loss: 3539214.0000 - rmse: 412.8517 - r2: 0.7553 - val_loss: 2761178.0000 - val_rmse: 488.4763 - val_r2: 0.4954\n",
            "Epoch 233/1500\n",
            "84/84 [==============================] - 0s 5ms/step - loss: 4360621.0000 - rmse: 485.8517 - r2: 0.6789 - val_loss: 1534131.3750 - val_rmse: 360.1289 - val_r2: 0.7570\n",
            "Epoch 234/1500\n",
            "84/84 [==============================] - 0s 5ms/step - loss: 3371309.2500 - rmse: 421.2448 - r2: 0.7223 - val_loss: 1913525.2500 - val_rmse: 393.9827 - val_r2: 0.8343\n",
            "Epoch 235/1500\n",
            "84/84 [==============================] - 0s 5ms/step - loss: 3695185.0000 - rmse: 445.8101 - r2: 0.7713 - val_loss: 2327732.0000 - val_rmse: 421.4373 - val_r2: 0.8133\n",
            "Epoch 236/1500\n",
            "84/84 [==============================] - 0s 5ms/step - loss: 3495710.2500 - rmse: 411.1150 - r2: 0.7751 - val_loss: 1788959.6250 - val_rmse: 382.3170 - val_r2: 0.7021\n",
            "Epoch 237/1500\n",
            "84/84 [==============================] - 0s 5ms/step - loss: 3338918.5000 - rmse: 405.8721 - r2: 0.7785 - val_loss: 1337024.5000 - val_rmse: 325.4123 - val_r2: 0.8558\n",
            "Epoch 238/1500\n",
            "84/84 [==============================] - 0s 5ms/step - loss: 3523495.0000 - rmse: 413.1710 - r2: 0.7898 - val_loss: 1285535.0000 - val_rmse: 315.7884 - val_r2: 0.8482\n",
            "Epoch 239/1500\n",
            "84/84 [==============================] - 0s 6ms/step - loss: 3317313.2500 - rmse: 402.0318 - r2: 0.8219 - val_loss: 1336875.1250 - val_rmse: 320.5158 - val_r2: 0.8154\n",
            "Epoch 240/1500\n",
            "84/84 [==============================] - 0s 5ms/step - loss: 3342167.2500 - rmse: 405.3653 - r2: 0.4602 - val_loss: 1280803.6250 - val_rmse: 315.7458 - val_r2: 0.8313\n",
            "Epoch 241/1500\n",
            "84/84 [==============================] - 0s 5ms/step - loss: 3322768.2500 - rmse: 410.6719 - r2: 0.7455 - val_loss: 1378289.6250 - val_rmse: 331.4517 - val_r2: 0.8636\n"
          ]
        }
      ]
    },
    {
      "cell_type": "markdown",
      "source": [
        "Diminuição da 'loss' e validation loss através das epochs"
      ],
      "metadata": {
        "id": "8-CK5PrFvjP1"
      },
      "id": "8-CK5PrFvjP1"
    },
    {
      "cell_type": "code",
      "source": [
        "plt.plot( r.history[\"loss\"], label=\"loss\" )\n",
        "plt.plot( r.history[\"val_loss\"], label=\"val_loss\" )\n",
        "plt.legend()\n",
        "plt.plot( r.history[\"rmse\"], label=\"rmse\" )\n",
        "plt.plot( r.history[\"val_rmse\"], label=\"val_rmse\" )\n",
        "plt.legend()\n",
        "plt.plot( r.history[\"r2\"], label=\"r2\" )\n",
        "plt.plot( r.history[\"val_r2\"], label=\"val_r2\" )\n",
        "plt.legend()"
      ],
      "metadata": {
        "colab": {
          "base_uri": "https://localhost:8080/",
          "height": 462
        },
        "id": "dXXAQ7JvrP5s",
        "outputId": "a21e8990-914f-4a59-cdc8-d8846640b4af"
      },
      "id": "dXXAQ7JvrP5s",
      "execution_count": 32,
      "outputs": [
        {
          "output_type": "execute_result",
          "data": {
            "text/plain": [
              "<matplotlib.legend.Legend at 0x7f202a90b220>"
            ]
          },
          "metadata": {},
          "execution_count": 32
        },
        {
          "output_type": "display_data",
          "data": {
            "text/plain": [
              "<Figure size 640x480 with 1 Axes>"
            ],
            "image/png": "[encoded data removed]"
          },
          "metadata": {}
        }
      ]
    },
    {
      "cell_type": "markdown",
      "source": [
        "Calculando métricas de desempenho para modelo de regressão"
      ],
      "metadata": {
        "id": "C-sID87Gvw6l"
      },
      "id": "C-sID87Gvw6l"
    },
    {
      "cell_type": "code",
      "source": [
        "y_pred = model.predict(x_test).flatten()\n",
        "mse = mean_squared_error(y_test, y_pred)\n",
        "rmse = sqrt(mse)\n",
        "r2 = r2_score(y_test, y_pred)\n",
        "print(\"mse = \", mse)\n",
        "print(\"rmse = \", rmse)\n",
        "print(\"r2 = \", r2)"
      ],
      "metadata": {
        "colab": {
          "base_uri": "https://localhost:8080/"
        },
        "id": "zrC-un0VrRYA",
        "outputId": "e05bb821-a0c2-4f58-adfa-b9d6d4fd35d3"
      },
      "id": "zrC-un0VrRYA",
      "execution_count": 33,
      "outputs": [
        {
          "output_type": "stream",
          "name": "stdout",
          "text": [
            "42/42 [==============================] - 0s 1ms/step\n",
            "mse =  1120209.9829669234\n",
            "rmse =  1058.3997274030844\n",
            "r2 =  0.892588266901649\n"
          ]
        }
      ]
    },
    {
      "cell_type": "markdown",
      "source": [
        "Comparação entre valores preditos e reais"
      ],
      "metadata": {
        "id": "WxqAM5D1v5PE"
      },
      "id": "WxqAM5D1v5PE"
    },
    {
      "cell_type": "code",
      "source": [
        "plt.scatter(dap_test, y_test, label=\"Observado\")\n",
        "plt.scatter(dap_test, y_pred, label=\"Predito\")\n",
        "plt.title(\"dap x Biomassa\")\n",
        "plt.xlabel(\"dap\")\n",
        "plt.ylabel(\"Biomassa\")\n",
        "plt.legend()\n",
        "plt.show()"
      ],
      "metadata": {
        "colab": {
          "base_uri": "https://localhost:8080/",
          "height": 472
        },
        "id": "q3XlzS78rS_6",
        "outputId": "2073fa10-cd28-4192-a596-9bc9d81a3fad"
      },
      "id": "q3XlzS78rS_6",
      "execution_count": 34,
      "outputs": [
        {
          "output_type": "display_data",
          "data": {
            "text/plain": [
              "<Figure size 640x480 with 1 Axes>"
            ],
            "image/png": "[encoded data removed]"
          },
          "metadata": {}
        }
      ]
    }
  ],
  "metadata": {
    "kernelspec": {
      "display_name": "Python 3 (ipykernel)",
      "language": "python",
      "name": "python3"
    },
    "language_info": {
      "codemirror_mode": {
        "name": "ipython",
        "version": 3
      },
      "file_extension": ".py",
      "mimetype": "text/x-python",
      "name": "python",
      "nbconvert_exporter": "python",
      "pygments_lexer": "ipython3",
      "version": "3.9.7"
    },
    "colab": {
      "provenance": []
    },
    "accelerator": "GPU",
    "gpuClass": "standard"
  },
  "nbformat": 4,
  "nbformat_minor": 5
}